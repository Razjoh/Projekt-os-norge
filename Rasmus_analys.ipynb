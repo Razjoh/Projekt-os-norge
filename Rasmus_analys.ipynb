{
 "cells": [
  {
   "cell_type": "markdown",
   "metadata": {},
   "source": [
    "# Explorativ dataanalys\n",
    "\n",
    "Rasmus"
   ]
  },
  {
   "cell_type": "code",
   "execution_count": 1,
   "metadata": {},
   "outputs": [
    {
     "data": {
      "text/html": [
       "<div>\n",
       "<style scoped>\n",
       "    .dataframe tbody tr th:only-of-type {\n",
       "        vertical-align: middle;\n",
       "    }\n",
       "\n",
       "    .dataframe tbody tr th {\n",
       "        vertical-align: top;\n",
       "    }\n",
       "\n",
       "    .dataframe thead th {\n",
       "        text-align: right;\n",
       "    }\n",
       "</style>\n",
       "<table border=\"1\" class=\"dataframe\">\n",
       "  <thead>\n",
       "    <tr style=\"text-align: right;\">\n",
       "      <th></th>\n",
       "      <th>ID</th>\n",
       "      <th>Name</th>\n",
       "      <th>Sex</th>\n",
       "      <th>Age</th>\n",
       "      <th>Height</th>\n",
       "      <th>Weight</th>\n",
       "      <th>Team</th>\n",
       "      <th>NOC</th>\n",
       "      <th>Games</th>\n",
       "      <th>Year</th>\n",
       "      <th>Season</th>\n",
       "      <th>City</th>\n",
       "      <th>Sport</th>\n",
       "      <th>Event</th>\n",
       "      <th>Medal</th>\n",
       "    </tr>\n",
       "  </thead>\n",
       "  <tbody>\n",
       "    <tr>\n",
       "      <th>0</th>\n",
       "      <td>1</td>\n",
       "      <td>A Dijiang</td>\n",
       "      <td>M</td>\n",
       "      <td>24.0</td>\n",
       "      <td>180.0</td>\n",
       "      <td>80.0</td>\n",
       "      <td>China</td>\n",
       "      <td>CHN</td>\n",
       "      <td>1992 Summer</td>\n",
       "      <td>1992</td>\n",
       "      <td>Summer</td>\n",
       "      <td>Barcelona</td>\n",
       "      <td>Basketball</td>\n",
       "      <td>Basketball Men's Basketball</td>\n",
       "      <td>NaN</td>\n",
       "    </tr>\n",
       "    <tr>\n",
       "      <th>1</th>\n",
       "      <td>2</td>\n",
       "      <td>A Lamusi</td>\n",
       "      <td>M</td>\n",
       "      <td>23.0</td>\n",
       "      <td>170.0</td>\n",
       "      <td>60.0</td>\n",
       "      <td>China</td>\n",
       "      <td>CHN</td>\n",
       "      <td>2012 Summer</td>\n",
       "      <td>2012</td>\n",
       "      <td>Summer</td>\n",
       "      <td>London</td>\n",
       "      <td>Judo</td>\n",
       "      <td>Judo Men's Extra-Lightweight</td>\n",
       "      <td>NaN</td>\n",
       "    </tr>\n",
       "    <tr>\n",
       "      <th>2</th>\n",
       "      <td>3</td>\n",
       "      <td>Gunnar Nielsen Aaby</td>\n",
       "      <td>M</td>\n",
       "      <td>24.0</td>\n",
       "      <td>NaN</td>\n",
       "      <td>NaN</td>\n",
       "      <td>Denmark</td>\n",
       "      <td>DEN</td>\n",
       "      <td>1920 Summer</td>\n",
       "      <td>1920</td>\n",
       "      <td>Summer</td>\n",
       "      <td>Antwerpen</td>\n",
       "      <td>Football</td>\n",
       "      <td>Football Men's Football</td>\n",
       "      <td>NaN</td>\n",
       "    </tr>\n",
       "    <tr>\n",
       "      <th>3</th>\n",
       "      <td>4</td>\n",
       "      <td>Edgar Lindenau Aabye</td>\n",
       "      <td>M</td>\n",
       "      <td>34.0</td>\n",
       "      <td>NaN</td>\n",
       "      <td>NaN</td>\n",
       "      <td>Denmark/Sweden</td>\n",
       "      <td>DEN</td>\n",
       "      <td>1900 Summer</td>\n",
       "      <td>1900</td>\n",
       "      <td>Summer</td>\n",
       "      <td>Paris</td>\n",
       "      <td>Tug-Of-War</td>\n",
       "      <td>Tug-Of-War Men's Tug-Of-War</td>\n",
       "      <td>Gold</td>\n",
       "    </tr>\n",
       "    <tr>\n",
       "      <th>4</th>\n",
       "      <td>5</td>\n",
       "      <td>Christine Jacoba Aaftink</td>\n",
       "      <td>F</td>\n",
       "      <td>21.0</td>\n",
       "      <td>185.0</td>\n",
       "      <td>82.0</td>\n",
       "      <td>Netherlands</td>\n",
       "      <td>NED</td>\n",
       "      <td>1988 Winter</td>\n",
       "      <td>1988</td>\n",
       "      <td>Winter</td>\n",
       "      <td>Calgary</td>\n",
       "      <td>Speed Skating</td>\n",
       "      <td>Speed Skating Women's 500 metres</td>\n",
       "      <td>NaN</td>\n",
       "    </tr>\n",
       "  </tbody>\n",
       "</table>\n",
       "</div>"
      ],
      "text/plain": [
       "   ID                      Name Sex   Age  Height  Weight            Team  \\\n",
       "0   1                 A Dijiang   M  24.0   180.0    80.0           China   \n",
       "1   2                  A Lamusi   M  23.0   170.0    60.0           China   \n",
       "2   3       Gunnar Nielsen Aaby   M  24.0     NaN     NaN         Denmark   \n",
       "3   4      Edgar Lindenau Aabye   M  34.0     NaN     NaN  Denmark/Sweden   \n",
       "4   5  Christine Jacoba Aaftink   F  21.0   185.0    82.0     Netherlands   \n",
       "\n",
       "   NOC        Games  Year  Season       City          Sport  \\\n",
       "0  CHN  1992 Summer  1992  Summer  Barcelona     Basketball   \n",
       "1  CHN  2012 Summer  2012  Summer     London           Judo   \n",
       "2  DEN  1920 Summer  1920  Summer  Antwerpen       Football   \n",
       "3  DEN  1900 Summer  1900  Summer      Paris     Tug-Of-War   \n",
       "4  NED  1988 Winter  1988  Winter    Calgary  Speed Skating   \n",
       "\n",
       "                              Event Medal  \n",
       "0       Basketball Men's Basketball   NaN  \n",
       "1      Judo Men's Extra-Lightweight   NaN  \n",
       "2           Football Men's Football   NaN  \n",
       "3       Tug-Of-War Men's Tug-Of-War  Gold  \n",
       "4  Speed Skating Women's 500 metres   NaN  "
      ]
     },
     "execution_count": 1,
     "metadata": {},
     "output_type": "execute_result"
    }
   ],
   "source": [
    "import pandas as pd\n",
    "import plotly.express as px\n",
    "import matplotlib.pyplot as plt\n",
    "import os\n",
    "\n",
    "df = pd.read_csv(\"Data/athlete_events.csv\")\n",
    "df.head()"
   ]
  },
  {
   "cell_type": "code",
   "execution_count": 2,
   "metadata": {},
   "outputs": [
    {
     "data": {
      "text/html": [
       "<div>\n",
       "<style scoped>\n",
       "    .dataframe tbody tr th:only-of-type {\n",
       "        vertical-align: middle;\n",
       "    }\n",
       "\n",
       "    .dataframe tbody tr th {\n",
       "        vertical-align: top;\n",
       "    }\n",
       "\n",
       "    .dataframe thead th {\n",
       "        text-align: right;\n",
       "    }\n",
       "</style>\n",
       "<table border=\"1\" class=\"dataframe\">\n",
       "  <thead>\n",
       "    <tr style=\"text-align: right;\">\n",
       "      <th></th>\n",
       "      <th>NOC</th>\n",
       "      <th>region</th>\n",
       "      <th>notes</th>\n",
       "    </tr>\n",
       "  </thead>\n",
       "  <tbody>\n",
       "    <tr>\n",
       "      <th>0</th>\n",
       "      <td>AFG</td>\n",
       "      <td>Afghanistan</td>\n",
       "      <td>NaN</td>\n",
       "    </tr>\n",
       "    <tr>\n",
       "      <th>1</th>\n",
       "      <td>AHO</td>\n",
       "      <td>Curacao</td>\n",
       "      <td>Netherlands Antilles</td>\n",
       "    </tr>\n",
       "    <tr>\n",
       "      <th>2</th>\n",
       "      <td>ALB</td>\n",
       "      <td>Albania</td>\n",
       "      <td>NaN</td>\n",
       "    </tr>\n",
       "    <tr>\n",
       "      <th>3</th>\n",
       "      <td>ALG</td>\n",
       "      <td>Algeria</td>\n",
       "      <td>NaN</td>\n",
       "    </tr>\n",
       "    <tr>\n",
       "      <th>4</th>\n",
       "      <td>AND</td>\n",
       "      <td>Andorra</td>\n",
       "      <td>NaN</td>\n",
       "    </tr>\n",
       "  </tbody>\n",
       "</table>\n",
       "</div>"
      ],
      "text/plain": [
       "   NOC       region                 notes\n",
       "0  AFG  Afghanistan                   NaN\n",
       "1  AHO      Curacao  Netherlands Antilles\n",
       "2  ALB      Albania                   NaN\n",
       "3  ALG      Algeria                   NaN\n",
       "4  AND      Andorra                   NaN"
      ]
     },
     "execution_count": 2,
     "metadata": {},
     "output_type": "execute_result"
    }
   ],
   "source": [
    "df_noc = pd.read_csv(\"Data/noc_regions.csv\")\n",
    "df_noc.head()"
   ]
  },
  {
   "cell_type": "code",
   "execution_count": 3,
   "metadata": {},
   "outputs": [
    {
     "name": "stdout",
     "output_type": "stream",
     "text": [
      "<class 'pandas.core.frame.DataFrame'>\n",
      "RangeIndex: 271116 entries, 0 to 271115\n",
      "Data columns (total 15 columns):\n",
      " #   Column  Non-Null Count   Dtype  \n",
      "---  ------  --------------   -----  \n",
      " 0   ID      271116 non-null  int64  \n",
      " 1   Name    271116 non-null  object \n",
      " 2   Sex     271116 non-null  object \n",
      " 3   Age     261642 non-null  float64\n",
      " 4   Height  210945 non-null  float64\n",
      " 5   Weight  208241 non-null  float64\n",
      " 6   Team    271116 non-null  object \n",
      " 7   NOC     271116 non-null  object \n",
      " 8   Games   271116 non-null  object \n",
      " 9   Year    271116 non-null  int64  \n",
      " 10  Season  271116 non-null  object \n",
      " 11  City    271116 non-null  object \n",
      " 12  Sport   271116 non-null  object \n",
      " 13  Event   271116 non-null  object \n",
      " 14  Medal   39783 non-null   object \n",
      "dtypes: float64(3), int64(2), object(10)\n",
      "memory usage: 31.0+ MB\n"
     ]
    }
   ],
   "source": [
    "df.info()"
   ]
  },
  {
   "cell_type": "code",
   "execution_count": 4,
   "metadata": {},
   "outputs": [
    {
     "name": "stdout",
     "output_type": "stream",
     "text": [
      "230\n"
     ]
    },
    {
     "data": {
      "text/plain": [
       "array(['CHN', 'DEN', 'NED', 'USA', 'FIN', 'NOR', 'ROU', 'EST', 'FRA',\n",
       "       'MAR', 'ESP', 'EGY', 'IRI', 'BUL', 'ITA', 'CHA', 'AZE', 'SUD',\n",
       "       'RUS', 'ARG', 'CUB', 'BLR', 'GRE', 'CMR', 'TUR', 'CHI', 'MEX',\n",
       "       'URS', 'NCA', 'HUN', 'NGR', 'ALG', 'KUW', 'BRN', 'PAK', 'IRQ',\n",
       "       'UAR', 'LIB', 'QAT', 'MAS', 'GER', 'CAN', 'IRL', 'AUS', 'RSA',\n",
       "       'ERI', 'TAN', 'JOR', 'TUN', 'LBA', 'BEL', 'DJI', 'PLE', 'COM',\n",
       "       'KAZ', 'BRU', 'IND', 'KSA', 'SYR', 'MDV', 'ETH', 'UAE', 'YAR',\n",
       "       'INA', 'PHI', 'SGP', 'UZB', 'KGZ', 'TJK', 'EUN', 'JPN', 'CGO',\n",
       "       'SUI', 'BRA', 'FRG', 'GDR', 'MON', 'ISR', 'URU', 'SWE', 'ISV',\n",
       "       'SRI', 'ARM', 'CIV', 'KEN', 'BEN', 'UKR', 'GBR', 'GHA', 'SOM',\n",
       "       'LAT', 'NIG', 'MLI', 'AFG', 'POL', 'CRC', 'PAN', 'GEO', 'SLO',\n",
       "       'CRO', 'GUY', 'NZL', 'POR', 'PAR', 'ANG', 'VEN', 'COL', 'BAN',\n",
       "       'PER', 'ESA', 'PUR', 'UGA', 'HON', 'ECU', 'TKM', 'MRI', 'SEY',\n",
       "       'TCH', 'LUX', 'MTN', 'CZE', 'SKN', 'TTO', 'DOM', 'VIN', 'JAM',\n",
       "       'LBR', 'SUR', 'NEP', 'MGL', 'AUT', 'PLW', 'LTU', 'TOG', 'NAM',\n",
       "       'AHO', 'ISL', 'ASA', 'SAM', 'RWA', 'DMA', 'HAI', 'MLT', 'CYP',\n",
       "       'GUI', 'BIZ', 'YMD', 'KOR', 'THA', 'BER', 'ANZ', 'SCG', 'SLE',\n",
       "       'PNG', 'YEM', 'IOA', 'OMA', 'FIJ', 'VAN', 'MDA', 'YUG', 'BAH',\n",
       "       'GUA', 'SRB', 'IVB', 'MOZ', 'CAF', 'MAD', 'MAL', 'BIH', 'GUM',\n",
       "       'CAY', 'SVK', 'BAR', 'GBS', 'TLS', 'COD', 'GAB', 'SMR', 'LAO',\n",
       "       'BOT', 'ROT', 'CAM', 'PRK', 'SOL', 'SEN', 'CPV', 'CRT', 'GEQ',\n",
       "       'BOL', 'SAA', 'AND', 'ANT', 'ZIM', 'GRN', 'HKG', 'LCA', 'FSM',\n",
       "       'MYA', 'MAW', 'ZAM', 'RHO', 'TPE', 'STP', 'MKD', 'BOH', 'TGA',\n",
       "       'LIE', 'MNE', 'GAM', 'COK', 'ALB', 'WIF', 'SWZ', 'BUR', 'NBO',\n",
       "       'BDI', 'ARU', 'NRU', 'VNM', 'VIE', 'BHU', 'MHL', 'KIR', 'UNK',\n",
       "       'TUV', 'NFL', 'KOS', 'SSD', 'LES'], dtype=object)"
      ]
     },
     "execution_count": 4,
     "metadata": {},
     "output_type": "execute_result"
    }
   ],
   "source": [
    "print(len(df[\"NOC\"].unique()))\n",
    "df[\"NOC\"].unique()"
   ]
  },
  {
   "cell_type": "code",
   "execution_count": 5,
   "metadata": {},
   "outputs": [
    {
     "data": {
      "text/html": [
       "<div>\n",
       "<style scoped>\n",
       "    .dataframe tbody tr th:only-of-type {\n",
       "        vertical-align: middle;\n",
       "    }\n",
       "\n",
       "    .dataframe tbody tr th {\n",
       "        vertical-align: top;\n",
       "    }\n",
       "\n",
       "    .dataframe thead th {\n",
       "        text-align: right;\n",
       "    }\n",
       "</style>\n",
       "<table border=\"1\" class=\"dataframe\">\n",
       "  <thead>\n",
       "    <tr style=\"text-align: right;\">\n",
       "      <th></th>\n",
       "      <th>NOC</th>\n",
       "      <th>region</th>\n",
       "      <th>notes</th>\n",
       "    </tr>\n",
       "  </thead>\n",
       "  <tbody>\n",
       "    <tr>\n",
       "      <th>1</th>\n",
       "      <td>AHO</td>\n",
       "      <td>Curacao</td>\n",
       "      <td>Netherlands Antilles</td>\n",
       "    </tr>\n",
       "    <tr>\n",
       "      <th>6</th>\n",
       "      <td>ANT</td>\n",
       "      <td>Antigua</td>\n",
       "      <td>Antigua and Barbuda</td>\n",
       "    </tr>\n",
       "    <tr>\n",
       "      <th>7</th>\n",
       "      <td>ANZ</td>\n",
       "      <td>Australia</td>\n",
       "      <td>Australasia</td>\n",
       "    </tr>\n",
       "    <tr>\n",
       "      <th>26</th>\n",
       "      <td>BOH</td>\n",
       "      <td>Czech Republic</td>\n",
       "      <td>Bohemia</td>\n",
       "    </tr>\n",
       "    <tr>\n",
       "      <th>51</th>\n",
       "      <td>CRT</td>\n",
       "      <td>Greece</td>\n",
       "      <td>Crete</td>\n",
       "    </tr>\n",
       "    <tr>\n",
       "      <th>88</th>\n",
       "      <td>HKG</td>\n",
       "      <td>China</td>\n",
       "      <td>Hong Kong</td>\n",
       "    </tr>\n",
       "    <tr>\n",
       "      <th>93</th>\n",
       "      <td>IOA</td>\n",
       "      <td>Individual Olympic Athletes</td>\n",
       "      <td>Individual Olympic Athletes</td>\n",
       "    </tr>\n",
       "    <tr>\n",
       "      <th>99</th>\n",
       "      <td>ISV</td>\n",
       "      <td>Virgin Islands, US</td>\n",
       "      <td>Virgin Islands</td>\n",
       "    </tr>\n",
       "    <tr>\n",
       "      <th>143</th>\n",
       "      <td>NBO</td>\n",
       "      <td>Malaysia</td>\n",
       "      <td>North Borneo</td>\n",
       "    </tr>\n",
       "    <tr>\n",
       "      <th>147</th>\n",
       "      <td>NFL</td>\n",
       "      <td>Canada</td>\n",
       "      <td>Newfoundland</td>\n",
       "    </tr>\n",
       "    <tr>\n",
       "      <th>168</th>\n",
       "      <td>ROT</td>\n",
       "      <td>NaN</td>\n",
       "      <td>Refugee Olympic Team</td>\n",
       "    </tr>\n",
       "    <tr>\n",
       "      <th>175</th>\n",
       "      <td>SCG</td>\n",
       "      <td>Serbia</td>\n",
       "      <td>Serbia and Montenegro</td>\n",
       "    </tr>\n",
       "    <tr>\n",
       "      <th>179</th>\n",
       "      <td>SKN</td>\n",
       "      <td>Saint Kitts</td>\n",
       "      <td>Turks and Caicos Islands</td>\n",
       "    </tr>\n",
       "    <tr>\n",
       "      <th>205</th>\n",
       "      <td>TTO</td>\n",
       "      <td>Trinidad</td>\n",
       "      <td>Trinidad and Tobago</td>\n",
       "    </tr>\n",
       "    <tr>\n",
       "      <th>208</th>\n",
       "      <td>TUV</td>\n",
       "      <td>NaN</td>\n",
       "      <td>Tuvalu</td>\n",
       "    </tr>\n",
       "    <tr>\n",
       "      <th>210</th>\n",
       "      <td>UAR</td>\n",
       "      <td>Syria</td>\n",
       "      <td>United Arab Republic</td>\n",
       "    </tr>\n",
       "    <tr>\n",
       "      <th>213</th>\n",
       "      <td>UNK</td>\n",
       "      <td>NaN</td>\n",
       "      <td>Unknown</td>\n",
       "    </tr>\n",
       "    <tr>\n",
       "      <th>223</th>\n",
       "      <td>WIF</td>\n",
       "      <td>Trinidad</td>\n",
       "      <td>West Indies Federation</td>\n",
       "    </tr>\n",
       "    <tr>\n",
       "      <th>224</th>\n",
       "      <td>YAR</td>\n",
       "      <td>Yemen</td>\n",
       "      <td>North Yemen</td>\n",
       "    </tr>\n",
       "    <tr>\n",
       "      <th>226</th>\n",
       "      <td>YMD</td>\n",
       "      <td>Yemen</td>\n",
       "      <td>South Yemen</td>\n",
       "    </tr>\n",
       "    <tr>\n",
       "      <th>227</th>\n",
       "      <td>YUG</td>\n",
       "      <td>Serbia</td>\n",
       "      <td>Yugoslavia</td>\n",
       "    </tr>\n",
       "  </tbody>\n",
       "</table>\n",
       "</div>"
      ],
      "text/plain": [
       "     NOC                       region                        notes\n",
       "1    AHO                      Curacao         Netherlands Antilles\n",
       "6    ANT                      Antigua          Antigua and Barbuda\n",
       "7    ANZ                    Australia                  Australasia\n",
       "26   BOH               Czech Republic                      Bohemia\n",
       "51   CRT                       Greece                        Crete\n",
       "88   HKG                        China                    Hong Kong\n",
       "93   IOA  Individual Olympic Athletes  Individual Olympic Athletes\n",
       "99   ISV           Virgin Islands, US               Virgin Islands\n",
       "143  NBO                     Malaysia                 North Borneo\n",
       "147  NFL                       Canada                 Newfoundland\n",
       "168  ROT                          NaN         Refugee Olympic Team\n",
       "175  SCG                       Serbia        Serbia and Montenegro\n",
       "179  SKN                  Saint Kitts     Turks and Caicos Islands\n",
       "205  TTO                     Trinidad          Trinidad and Tobago\n",
       "208  TUV                          NaN                       Tuvalu\n",
       "210  UAR                        Syria         United Arab Republic\n",
       "213  UNK                          NaN                      Unknown\n",
       "223  WIF                     Trinidad       West Indies Federation\n",
       "224  YAR                        Yemen                  North Yemen\n",
       "226  YMD                        Yemen                  South Yemen\n",
       "227  YUG                       Serbia                   Yugoslavia"
      ]
     },
     "execution_count": 5,
     "metadata": {},
     "output_type": "execute_result"
    }
   ],
   "source": [
    "special_noc = df_noc[~df_noc[\"notes\"].isnull()]\n",
    "special_noc\n"
   ]
  },
  {
   "cell_type": "code",
   "execution_count": 6,
   "metadata": {},
   "outputs": [
    {
     "data": {
      "text/plain": [
       "array(['Basketball', 'Judo', 'Football', 'Tug-Of-War', 'Speed Skating',\n",
       "       'Cross Country Skiing', 'Athletics', 'Ice Hockey', 'Swimming',\n",
       "       'Badminton', 'Sailing', 'Biathlon', 'Gymnastics',\n",
       "       'Art Competitions', 'Alpine Skiing', 'Handball', 'Weightlifting',\n",
       "       'Wrestling', 'Luge', 'Water Polo', 'Hockey', 'Rowing', 'Bobsleigh',\n",
       "       'Fencing', 'Equestrianism', 'Shooting', 'Boxing', 'Taekwondo',\n",
       "       'Cycling', 'Diving', 'Canoeing', 'Tennis', 'Modern Pentathlon',\n",
       "       'Figure Skating', 'Golf', 'Softball', 'Archery', 'Volleyball',\n",
       "       'Synchronized Swimming', 'Table Tennis', 'Nordic Combined',\n",
       "       'Baseball', 'Rhythmic Gymnastics', 'Freestyle Skiing',\n",
       "       'Rugby Sevens', 'Trampolining', 'Beach Volleyball', 'Triathlon',\n",
       "       'Ski Jumping', 'Curling', 'Snowboarding', 'Rugby',\n",
       "       'Short Track Speed Skating', 'Skeleton', 'Lacrosse', 'Polo',\n",
       "       'Cricket', 'Racquets', 'Motorboating', 'Military Ski Patrol',\n",
       "       'Croquet', 'Jeu De Paume', 'Roque', 'Alpinism', 'Basque Pelota',\n",
       "       'Aeronautics'], dtype=object)"
      ]
     },
     "execution_count": 6,
     "metadata": {},
     "output_type": "execute_result"
    }
   ],
   "source": [
    "df[\"Sport\"].unique()"
   ]
  },
  {
   "cell_type": "code",
   "execution_count": 7,
   "metadata": {},
   "outputs": [
    {
     "data": {
      "text/plain": [
       "array([\"Basketball Men's Basketball\", \"Judo Men's Extra-Lightweight\",\n",
       "       \"Football Men's Football\", \"Tug-Of-War Men's Tug-Of-War\",\n",
       "       \"Speed Skating Women's 500 metres\",\n",
       "       \"Speed Skating Women's 1,000 metres\",\n",
       "       \"Cross Country Skiing Men's 10 kilometres\",\n",
       "       \"Cross Country Skiing Men's 50 kilometres\",\n",
       "       \"Cross Country Skiing Men's 10/15 kilometres Pursuit\",\n",
       "       \"Cross Country Skiing Men's 4 x 10 kilometres Relay\",\n",
       "       \"Cross Country Skiing Men's 30 kilometres\",\n",
       "       \"Athletics Women's 100 metres\",\n",
       "       \"Athletics Women's 4 x 100 metres Relay\",\n",
       "       \"Ice Hockey Men's Ice Hockey\",\n",
       "       \"Swimming Men's 400 metres Freestyle\", \"Badminton Men's Singles\",\n",
       "       \"Sailing Women's Windsurfer\",\n",
       "       \"Biathlon Women's 7.5 kilometres Sprint\",\n",
       "       \"Swimming Men's 200 metres Breaststroke\",\n",
       "       \"Swimming Men's 400 metres Breaststroke\",\n",
       "       \"Gymnastics Men's Individual All-Around\",\n",
       "       \"Gymnastics Men's Team All-Around\",\n",
       "       \"Gymnastics Men's Floor Exercise\", \"Gymnastics Men's Horse Vault\",\n",
       "       \"Gymnastics Men's Parallel Bars\",\n",
       "       \"Gymnastics Men's Horizontal Bar\", \"Gymnastics Men's Rings\",\n",
       "       \"Gymnastics Men's Pommelled Horse\", \"Athletics Men's Shot Put\",\n",
       "       'Art Competitions Mixed Sculpturing, Unknown Event',\n",
       "       \"Alpine Skiing Men's Downhill\", \"Alpine Skiing Men's Super G\",\n",
       "       \"Alpine Skiing Men's Giant Slalom\", \"Alpine Skiing Men's Slalom\",\n",
       "       \"Alpine Skiing Men's Combined\", \"Handball Women's Handball\",\n",
       "       \"Weightlifting Women's Super-Heavyweight\",\n",
       "       \"Wrestling Men's Light-Heavyweight, Greco-Roman\",\n",
       "       \"Speed Skating Men's 500 metres\",\n",
       "       \"Speed Skating Men's 1,500 metres\",\n",
       "       \"Gymnastics Men's Team All-Around, Free System\",\n",
       "       \"Luge Women's Singles\", \"Water Polo Men's Water Polo\",\n",
       "       'Sailing Mixed Three Person Keelboat', \"Hockey Women's Hockey\",\n",
       "       \"Rowing Men's Lightweight Double Sculls\",\n",
       "       \"Athletics Men's Pole Vault\", \"Athletics Men's High Jump\",\n",
       "       \"Sailing Men's Two Person Dinghy\", \"Athletics Men's 1,500 metres\",\n",
       "       \"Bobsleigh Men's Four\", \"Swimming Men's 100 metres Butterfly\",\n",
       "       \"Swimming Men's 200 metres Butterfly\",\n",
       "       \"Swimming Men's 4 x 100 metres Medley Relay\",\n",
       "       \"Football Women's Football\", \"Fencing Men's Foil, Individual\",\n",
       "       \"Fencing Men's epee, Individual\", \"Fencing Men's epee, Team\",\n",
       "       \"Speed Skating Men's 5,000 metres\",\n",
       "       \"Speed Skating Men's 10,000 metres\", 'Sailing Mixed 8 metres',\n",
       "       'Equestrianism Mixed Jumping, Individual',\n",
       "       \"Cross Country Skiing Men's 15 kilometres\",\n",
       "       \"Shooting Men's Small-Bore Rifle, Prone, 50 metres\",\n",
       "       \"Shooting Men's Rapid-Fire Pistol, 25 metres\",\n",
       "       \"Shooting Men's Trap\", \"Athletics Men's 4 x 100 metres Relay\",\n",
       "       \"Athletics Men's Long Jump\", \"Boxing Men's Light-Welterweight\",\n",
       "       \"Athletics Women's Javelin Throw\",\n",
       "       \"Wrestling Men's Heavyweight, Freestyle\",\n",
       "       \"Taekwondo Men's Flyweight\", \"Boxing Men's Heavyweight\",\n",
       "       \"Athletics Men's 5,000 metres\",\n",
       "       \"Cycling Men's Road Race, Individual\",\n",
       "       \"Cycling Men's Road Race, Team\", \"Weightlifting Men's Lightweight\",\n",
       "       \"Weightlifting Men's Middleweight\", \"Rowing Men's Coxless Pairs\",\n",
       "       \"Judo Men's Half-Middleweight\", \"Taekwondo Women's Flyweight\",\n",
       "       \"Boxing Men's Flyweight\", \"Basketball Women's Basketball\",\n",
       "       \"Diving Men's Platform\",\n",
       "       \"Canoeing Men's Canadian Doubles, 500 metres\",\n",
       "       \"Canoeing Men's Canadian Doubles, 1,000 metres\",\n",
       "       \"Canoeing Men's Kayak Fours, 1,000 metres\",\n",
       "       \"Handball Men's Handball\", \"Rowing Women's Coxless Pairs\",\n",
       "       \"Boxing Men's Middleweight\", \"Judo Men's Lightweight\",\n",
       "       \"Boxing Men's Featherweight\", \"Tennis Men's Doubles\",\n",
       "       'Shooting Mixed Skeet', \"Wrestling Men's Featherweight, Freestyle\",\n",
       "       'Sailing Mixed Two Person Heavyweight Dinghy',\n",
       "       \"Athletics Women's Shot Put\", \"Rowing Men's Coxed Eights\",\n",
       "       \"Cycling Women's Sprint\", \"Cycling Women's 500 metres Time Trial\",\n",
       "       \"Athletics Men's 110 metres Hurdles\", 'Shooting Mixed Trap',\n",
       "       \"Athletics Women's Marathon\", \"Athletics Men's 100 metres\",\n",
       "       \"Fencing Men's Foil, Team\", \"Fencing Men's Sabre, Team\",\n",
       "       \"Swimming Men's 100 metres Freestyle\",\n",
       "       \"Swimming Men's 4 x 200 metres Freestyle Relay\",\n",
       "       \"Boxing Men's Lightweight\", \"Modern Pentathlon Men's Individual\",\n",
       "       \"Boxing Men's Welterweight\", \"Rowing Men's Quadruple Sculls\",\n",
       "       \"Rowing Men's Double Sculls\", \"Rowing Men's Coxed Pairs\",\n",
       "       \"Athletics Men's 400 metres Hurdles\", \"Athletics Men's 400 metres\",\n",
       "       \"Athletics Men's Hammer Throw\",\n",
       "       \"Weightlifting Men's Featherweight\", \"Athletics Men's 800 metres\",\n",
       "       \"Hockey Men's Hockey\", \"Alpine Skiing Women's Slalom\",\n",
       "       \"Rowing Women's Single Sculls\",\n",
       "       \"Swimming Men's 50 metres Freestyle\",\n",
       "       \"Weightlifting Women's Featherweight\",\n",
       "       \"Water Polo Women's Water Polo\", \"Figure Skating Men's Singles\",\n",
       "       \"Weightlifting Men's Heavyweight\",\n",
       "       'Equestrianism Mixed Three-Day Event, Individual',\n",
       "       'Equestrianism Mixed Three-Day Event, Team',\n",
       "       'Figure Skating Mixed Team',\n",
       "       \"Sailing Women's Three Person Keelboat\",\n",
       "       \"Cycling Women's Road Race, Individual\", \"Golf Women's Individual\",\n",
       "       \"Softball Women's Softball\", \"Archery Women's Individual\",\n",
       "       \"Wrestling Men's Heavyweight, Greco-Roman\",\n",
       "       \"Volleyball Men's Volleyball\", \"Taekwondo Women's Heavyweight\",\n",
       "       \"Synchronized Swimming Women's Duet\",\n",
       "       \"Synchronized Swimming Women's Team\",\n",
       "       \"Taekwondo Women's Featherweight\", \"Athletics Men's Marathon\",\n",
       "       \"Athletics Men's 4 x 400 metres Relay\",\n",
       "       \"Athletics Men's 10,000 metres\", \"Athletics Women's 3,000 metres\",\n",
       "       \"Diving Women's Platform\", \"Shooting Men's Air Rifle, 10 metres\",\n",
       "       \"Athletics Men's 200 metres\", \"Weightlifting Men's Flyweight\",\n",
       "       \"Swimming Men's 100 metres Backstroke\",\n",
       "       \"Weightlifting Men's Light-Heavyweight\",\n",
       "       \"Wrestling Men's Lightweight, Greco-Roman\",\n",
       "       \"Fencing Men's Sabre, Individual\",\n",
       "       \"Wrestling Men's Super-Heavyweight, Greco-Roman\",\n",
       "       \"Shooting Men's Free Pistol, 50 metres\",\n",
       "       \"Shooting Men's Air Pistol, 10 metres\",\n",
       "       \"Rowing Men's Coxless Fours\", \"Boxing Men's Light-Flyweight\",\n",
       "       \"Boxing Men's Super-Heavyweight\",\n",
       "       \"Wrestling Men's Flyweight, Greco-Roman\",\n",
       "       \"Shooting Women's Air Rifle, 10 metres\",\n",
       "       \"Weightlifting Men's Middle-Heavyweight\",\n",
       "       \"Athletics Men's Javelin Throw\", \"Volleyball Women's Volleyball\",\n",
       "       \"Wrestling Men's Welterweight, Greco-Roman\",\n",
       "       \"Wrestling Men's Middleweight, Greco-Roman\",\n",
       "       \"Athletics Men's 3,000 metres Steeplechase\",\n",
       "       \"Wrestling Men's Middleweight, Freestyle\",\n",
       "       \"Swimming Women's 100 metres Backstroke\",\n",
       "       \"Swimming Women's 200 metres Backstroke\",\n",
       "       \"Swimming Women's 4 x 100 metres Medley Relay\",\n",
       "       \"Wrestling Men's Light-Heavyweight, Freestyle\",\n",
       "       \"Modern Pentathlon Men's Team\", \"Boxing Men's Bantamweight\",\n",
       "       \"Athletics Women's 200 metres\", \"Table Tennis Women's Singles\",\n",
       "       \"Table Tennis Women's Doubles\", \"Shooting Men's Skeet\",\n",
       "       \"Swimming Women's 50 metres Freestyle\",\n",
       "       \"Shooting Men's Small-Bore Rifle, Three Positions, 50 metres\",\n",
       "       \"Athletics Men's Triple Jump\", \"Weightlifting Women's Lightweight\",\n",
       "       \"Athletics Women's Long Jump\", \"Fencing Women's epee, Individual\",\n",
       "       \"Swimming Men's 200 metres Freestyle\",\n",
       "       \"Swimming Men's 4 x 100 metres Freestyle Relay\",\n",
       "       \"Swimming Men's 200 metres Backstroke\",\n",
       "       \"Swimming Men's 200 metres Individual Medley\",\n",
       "       \"Swimming Men's 400 metres Individual Medley\",\n",
       "       \"Badminton Women's Singles\", \"Boxing Men's Light-Middleweight\",\n",
       "       \"Tennis Men's Singles\", \"Wrestling Men's Bantamweight, Freestyle\",\n",
       "       \"Wrestling Men's Flyweight, Freestyle\",\n",
       "       \"Athletics Women's 5,000 metres\",\n",
       "       \"Weightlifting Women's Light-Heavyweight\",\n",
       "       \"Weightlifting Women's Heavyweight\",\n",
       "       \"Athletics Men's Discus Throw\", \"Taekwondo Men's Featherweight\",\n",
       "       \"Taekwondo Men's Welterweight\", \"Judo Men's Heavyweight\",\n",
       "       \"Cycling Men's Sprint\", \"Bobsleigh Men's Two\",\n",
       "       \"Wrestling Men's Lightweight, Freestyle\",\n",
       "       \"Nordic Combined Men's Team\", \"Nordic Combined Men's Individual\",\n",
       "       \"Baseball Men's Baseball\", \"Rowing Men's Coxed Fours\",\n",
       "       \"Cycling Men's 100 kilometres Team Time Trial\",\n",
       "       \"Rhythmic Gymnastics Women's Group\",\n",
       "       'Art Competitions Mixed Architecture, Designs For Town Planning',\n",
       "       'Art Competitions Mixed Architecture, Architectural Designs',\n",
       "       \"Gymnastics Women's Individual All-Around\",\n",
       "       \"Gymnastics Women's Team All-Around\",\n",
       "       \"Gymnastics Women's Floor Exercise\",\n",
       "       \"Gymnastics Women's Horse Vault\", \"Gymnastics Women's Uneven Bars\",\n",
       "       \"Gymnastics Women's Balance Beam\", \"Diving Women's Springboard\",\n",
       "       \"Diving Women's Synchronized Springboard\",\n",
       "       \"Athletics Women's 10,000 metres\", 'Sailing Mixed 7 metres',\n",
       "       \"Judo Women's Half-Middleweight\", \"Athletics Men's Decathlon\",\n",
       "       \"Biathlon Men's 10 kilometres Sprint\",\n",
       "       \"Biathlon Men's 20 kilometres\",\n",
       "       \"Biathlon Men's 4 x 7.5 kilometres Relay\",\n",
       "       \"Freestyle Skiing Men's Moguls\",\n",
       "       \"Wrestling Men's Middleweight A, Greco-Roman\",\n",
       "       \"Athletics Women's Discus Throw\",\n",
       "       \"Swimming Women's 4 x 100 metres Freestyle Relay\",\n",
       "       \"Athletics Women's 1,500 metres\",\n",
       "       \"Shooting Women's Air Pistol, 10 metres\",\n",
       "       \"Shooting Women's Sporting Pistol, 25 metres\",\n",
       "       \"Canoeing Men's Kayak Doubles, 500 metres\",\n",
       "       \"Canoeing Men's Kayak Singles, 500 metres\",\n",
       "       \"Canoeing Men's Kayak Singles, 1,000 metres\",\n",
       "       \"Shooting Men's Running Target, 50 metres\",\n",
       "       \"Judo Women's Half-Heavyweight\", \"Athletics Women's Pole Vault\",\n",
       "       \"Rugby Sevens Women's Rugby Sevens\", \"Table Tennis Men's Team\",\n",
       "       'Figure Skating Mixed Pairs', \"Freestyle Skiing Men's Aerials\",\n",
       "       \"Rowing Women's Coxed Eights\",\n",
       "       \"Athletics Women's 4 x 400 metres Relay\",\n",
       "       \"Alpine Skiing Women's Giant Slalom\",\n",
       "       \"Alpine Skiing Women's Super G\",\n",
       "       \"Cross Country Skiing Women's 5 kilometres\",\n",
       "       \"Cross Country Skiing Women's 10 kilometres\",\n",
       "       \"Cross Country Skiing Women's 20 kilometres\",\n",
       "       \"Cycling Men's 1,000 metres Time Trial\",\n",
       "       \"Cycling Men's Individual Pursuit, 4,000 metres\",\n",
       "       \"Wrestling Men's Welterweight, Freestyle\",\n",
       "       \"Wrestling Men's Bantamweight, Greco-Roman\",\n",
       "       \"Rowing Women's Lightweight Double Sculls\",\n",
       "       \"Athletics Women's 800 metres\",\n",
       "       \"Rowing Women's Coxed Quadruple Sculls\",\n",
       "       \"Biathlon Men's 12.5 kilometres Pursuit\",\n",
       "       'Biathlon Mixed 2 x 6 kilometres and 2 x 7.5 kilometres Relay',\n",
       "       \"Rhythmic Gymnastics Women's Individual\",\n",
       "       \"Canoeing Men's Kayak Singles, Slalom\", \"Archery Men's Individual\",\n",
       "       \"Archery Men's Team\", \"Speed Skating Women's 1,500 metres\",\n",
       "       \"Speed Skating Women's Team Pursuit (6 laps)\",\n",
       "       \"Cross Country Skiing Men's Sprint\",\n",
       "       \"Athletics Women's 400 metres\", \"Figure Skating Women's Singles\",\n",
       "       \"Speed Skating Men's 1,000 metres\",\n",
       "       \"Trampolining Men's Individual\",\n",
       "       \"Beach Volleyball Men's Beach Volleyball\",\n",
       "       \"Cycling Women's Mountainbike, Cross-Country\",\n",
       "       \"Athletics Men's Javelin Throw, Both Hands\",\n",
       "       \"Triathlon Women's Olympic Distance\",\n",
       "       \"Gymnastics Women's Team Portable Apparatus\",\n",
       "       \"Cycling Men's Mountainbike, Cross-Country\",\n",
       "       \"Athletics Women's 400 metres Hurdles\", \"Diving Men's Springboard\",\n",
       "       \"Wrestling Men's Featherweight, Greco-Roman\",\n",
       "       \"Table Tennis Men's Singles\", 'Art Competitions Mixed Painting',\n",
       "       \"Cross Country Skiing Women's 3 x 5 kilometres Relay\",\n",
       "       \"Judo Men's Open Class\", \"Rowing Women's Quadruple Sculls\",\n",
       "       \"Gymnastics Men's Team All-Around, Swedish System\",\n",
       "       \"Nordic Combined Men's Sprint\", \"Athletics Women's Pentathlon\",\n",
       "       'Art Competitions Mixed Painting, Unknown Event',\n",
       "       \"Cycling Men's Team Pursuit, 4,000 metres\",\n",
       "       \"Weightlifting Women's Middleweight\",\n",
       "       \"Swimming Men's 1,500 metres Freestyle\",\n",
       "       \"Wrestling Women's Light-Heavyweight, Freestyle\",\n",
       "       \"Swimming Women's 100 metres Freestyle\",\n",
       "       \"Equestrianism Men's Jumping, Individual\",\n",
       "       \"Equestrianism Men's Jumping, Team\",\n",
       "       \"Equestrianism Men's Three-Day Event, Individual\",\n",
       "       \"Equestrianism Men's Three-Day Event, Team\",\n",
       "       \"Alpine Skiing Women's Combined\", \"Athletics Women's High Jump\",\n",
       "       \"Ski Jumping Men's Normal Hill, Individual\",\n",
       "       \"Canoeing Women's Kayak Fours, 500 metres\",\n",
       "       \"Ice Hockey Women's Ice Hockey\", \"Sailing Men's One Person Dinghy\",\n",
       "       \"Trampolining Women's Individual\", \"Curling Men's Curling\",\n",
       "       'Art Competitions Mixed Literature', \"Judo Men's Middleweight\",\n",
       "       \"Biathlon Women's 15 kilometres\",\n",
       "       \"Biathlon Women's 3 x 7.5 kilometres Relay\",\n",
       "       \"Biathlon Women's 4 x 7.5 kilometres Relay\",\n",
       "       \"Judo Men's Half-Lightweight\", \"Fencing Women's Foil, Team\",\n",
       "       \"Swimming Women's 200 metres Butterfly\",\n",
       "       \"Swimming Women's 400 metres Individual Medley\",\n",
       "       \"Golf Men's Individual\", \"Athletics Men's Standing High Jump\",\n",
       "       \"Athletics Men's Standing Long Jump\",\n",
       "       \"Athletics Men's 20 kilometres Walk\",\n",
       "       \"Swimming Men's 220 yard Freestyle\",\n",
       "       \"Swimming Men's 880 yard Freestyle\",\n",
       "       \"Swimming Men's One Mile Freestyle\",\n",
       "       \"Swimming Men's 4 x 50 Yard Freestyle Relay\",\n",
       "       \"Swimming Men's Plunge For Distance\",\n",
       "       \"Shooting Men's Free Rifle, Three Positions, 300 metres\",\n",
       "       \"Shooting Men's Military Rifle, Three Positions, 300 metres\",\n",
       "       \"Shooting Men's Military Rifle, Any Position, 600 metres\",\n",
       "       \"Shooting Men's Military Rifle, 200, 400, 500 and 600 metres, Team\",\n",
       "       \"Shooting Men's Military Rifle, Prone, 300 metres\",\n",
       "       \"Judo Men's Half-Heavyweight\", \"Archery Women's Team\",\n",
       "       \"Athletics Men's 50 kilometres Walk\",\n",
       "       \"Rowing Women's Double Sculls\", 'Sailing Mixed 6 metres',\n",
       "       \"Boxing Men's Light-Heavyweight\", \"Boxing Women's Flyweight\",\n",
       "       \"Athletics Women's 100 metres Hurdles\",\n",
       "       \"Athletics Men's Discus Throw, Greek Style\",\n",
       "       \"Curling Women's Curling\", 'Sailing Mixed One Person Dinghy',\n",
       "       \"Wrestling Women's Heavyweight, Freestyle\",\n",
       "       'Badminton Mixed Doubles', \"Fencing Women's Foil, Individual\",\n",
       "       'Sailing Mixed Two Person Keelboat',\n",
       "       \"Shooting Men's Military Rifle, 300 metres and 600 metres, Prone, Team\",\n",
       "       \"Table Tennis Men's Doubles\",\n",
       "       \"Wrestling Men's Light-Flyweight, Freestyle\",\n",
       "       \"Wrestling Women's Featherweight, Freestyle\",\n",
       "       \"Swimming Women's 200 metres Freestyle\",\n",
       "       \"Swimming Women's 400 metres Freestyle\",\n",
       "       \"Swimming Women's 200 metres Individual Medley\",\n",
       "       \"Sailing Men's Windsurfer\", \"Freestyle Skiing Men's Slopestyle\",\n",
       "       \"Shooting Men's Running Target, Single Shot\",\n",
       "       \"Shooting Men's Running Target, Double Shot\",\n",
       "       \"Rugby Sevens Men's Rugby Sevens\",\n",
       "       \"Wrestling Women's Lightweight, Freestyle\",\n",
       "       \"Modern Pentathlon Women's Individual\",\n",
       "       \"Canoeing Men's Canadian Doubles, Slalom\",\n",
       "       \"Judo Women's Half-Lightweight\", \"Diving Women's Plain High\",\n",
       "       \"Equestrianism Men's Dressage, Individual\",\n",
       "       \"Equestrianism Men's Dressage, Team\",\n",
       "       \"Tennis Women's Singles, Covered Courts\",\n",
       "       \"Diving Men's Plain High\",\n",
       "       'Shooting Mixed Small-Bore Rifle, Three Positions, 50 metres',\n",
       "       'Shooting Mixed Small-Bore Rifle, Prone, 50 metres',\n",
       "       \"Swimming Women's 800 metres Freestyle\",\n",
       "       \"Sailing Women's Two Person Dinghy\",\n",
       "       \"Alpine Skiing Women's Downhill\",\n",
       "       \"Shooting Men's Free Pistol, 50 metres, Team\",\n",
       "       \"Shooting Men's Free Rifle, Three Positions, 300 metres, Team\",\n",
       "       \"Shooting Men's Military Rifle, Prone, 300 metres, Team\",\n",
       "       \"Shooting Men's Military Rifle, Prone, 600 metres, Team\",\n",
       "       \"Shooting Men's Military Rifle, Standing, 300 metres, Team\",\n",
       "       \"Shooting Men's Free Rifle, Prone, 600 metres\",\n",
       "       \"Shooting Men's Free Rifle, 400, 600 and 800 metres, Team\",\n",
       "       \"Rowing Men's Single Sculls\",\n",
       "       \"Cycling Men's Tandem Sprint, 2,000 metres\",\n",
       "       \"Freestyle Skiing Women's Halfpipe\",\n",
       "       \"Athletics Women's Heptathlon\", \"Cycling Men's Points Race\",\n",
       "       \"Synchronized Swimming Women's Solo\",\n",
       "       'Equestrianism Mixed Dressage, Individual',\n",
       "       'Equestrianism Mixed Dressage, Team',\n",
       "       \"Cross Country Skiing Men's 18 kilometres\",\n",
       "       \"Swimming Men's 100 metres Breaststroke\",\n",
       "       'Figure Skating Mixed Ice Dancing',\n",
       "       'Shooting Mixed Free Pistol, 50 metres', \"Sailing Women's Skiff\",\n",
       "       \"Canoeing Men's Kayak Doubles, 10,000 metres\",\n",
       "       \"Triathlon Men's Olympic Distance\",\n",
       "       \"Sailing Women's One Person Dinghy\",\n",
       "       \"Cross Country Skiing Women's 30 kilometres\",\n",
       "       \"Cross Country Skiing Women's 15 km Skiathlon\",\n",
       "       \"Rowing Men's 17-Man Naval Rowing Boats\",\n",
       "       \"Beach Volleyball Women's Beach Volleyball\",\n",
       "       \"Weightlifting Men's Super-Heavyweight\",\n",
       "       \"Rowing Men's Lightweight Coxless Fours\",\n",
       "       \"Wrestling Men's Light-Flyweight, Greco-Roman\",\n",
       "       \"Canoeing Men's Canadian Singles, 1,000 metres\",\n",
       "       'Sailing Mixed 5.5 metres', 'Equestrianism Mixed Jumping, Team',\n",
       "       \"Diving Men's Synchronized Platform\",\n",
       "       \"Snowboarding Men's Halfpipe\",\n",
       "       \"Canoeing Women's Kayak Singles, Slalom\",\n",
       "       \"Weightlifting Women's Flyweight\",\n",
       "       \"Swimming Women's 100 metres Breaststroke\",\n",
       "       \"Swimming Women's 200 metres Breaststroke\",\n",
       "       \"Wrestling Men's Middleweight B, Greco-Roman\",\n",
       "       \"Athletics Men's Stone Throw\",\n",
       "       \"Athletics Men's Javelin Throw, Freestyle\",\n",
       "       \"Athletics Men's Pentathlon (Ancient)\",\n",
       "       \"Shooting Women's Small-Bore Rifle, Three Positions, 50 metres\",\n",
       "       \"Swimming Women's 100 metres Butterfly\",\n",
       "       \"Weightlifting Men's Heavyweight I\",\n",
       "       \"Athletics Women's 3,000 metres Steeplechase\",\n",
       "       \"Athletics Men's Shot Put, Both Hands\",\n",
       "       \"Ski Jumping Men's Large Hill, Individual\",\n",
       "       \"Ski Jumping Men's Large Hill, Team\", \"Shooting Women's Trap\",\n",
       "       \"Badminton Men's Doubles\",\n",
       "       \"Swimming Women's 4 x 200 metres Freestyle Relay\",\n",
       "       \"Athletics Men's 10 kilometres Walk\",\n",
       "       \"Athletics Women's 20 kilometres Walk\",\n",
       "       \"Athletics Women's 80 metres Hurdles\",\n",
       "       \"Sailing Men's One Person Heavyweight Dinghy\",\n",
       "       \"Freestyle Skiing Women's Aerials\",\n",
       "       'Art Competitions Mixed Painting, Paintings',\n",
       "       'Tennis Mixed Doubles, Covered Courts', \"Cycling Men's Madison\",\n",
       "       'Art Competitions Mixed Sculpturing, Statues', \"Rugby Men's Rugby\",\n",
       "       \"Weightlifting Men's Heavyweight II\",\n",
       "       \"Canoeing Women's Kayak Doubles, 500 metres\",\n",
       "       \"Short Track Speed Skating Men's 5,000 metres Relay\",\n",
       "       \"Cycling Men's Individual Time Trial\", \"Judo Women's Heavyweight\",\n",
       "       \"Canoeing Men's Kayak Doubles, 1,000 metres\",\n",
       "       \"Gymnastics Men's Individual All-Around, 5 Events\",\n",
       "       \"Wrestling Men's Super-Heavyweight, Freestyle\",\n",
       "       \"Biathlon Women's 10 kilometres Pursuit\",\n",
       "       \"Biathlon Women's 12.5 kilometres Mass Start\",\n",
       "       \"Biathlon Women's 4 x 6 kilometres Relay\",\n",
       "       \"Fencing Women's Sabre, Team\", \"Shooting Men's Double Trap\",\n",
       "       \"Weightlifting Men's Bantamweight\", \"Taekwondo Men's Heavyweight\",\n",
       "       'Sailing Mixed Windsurfer', \"Taekwondo Women's Welterweight\",\n",
       "       'Shooting Mixed Free Rifle, Three Positions, 300 metres',\n",
       "       \"Skeleton Men's Skeleton\", \"Cycling Men's 50 kilometres\",\n",
       "       'Shooting Mixed Rapid-Fire Pistol, 25 metres',\n",
       "       \"Cycling Men's 333 metres Time Trial\",\n",
       "       \"Cycling Men's 20 kilometres\",\n",
       "       \"Canoeing Men's Kayak Singles, 10,000 metres\",\n",
       "       'Sailing Mixed Open', 'Sailing Mixed 1-2 Ton',\n",
       "       \"Canoeing Men's Canadian Singles, Slalom\", \"Luge Men's Singles\",\n",
       "       \"Luge Mixed (Men)'s Doubles\", 'Sailing Mixed Multihull',\n",
       "       \"Badminton Women's Doubles\", \"Speed Skating Women's 3,000 metres\",\n",
       "       \"Cross Country Skiing Women's 5/10 kilometres Pursuit\",\n",
       "       \"Cross Country Skiing Women's 4 x 5 kilometres Relay\",\n",
       "       \"Cross Country Skiing Women's 15 kilometres\",\n",
       "       \"Cross Country Skiing Women's 5/5 kilometres Pursuit\",\n",
       "       \"Diving Women's Synchronized Platform\",\n",
       "       \"Athletics Women's Triple Jump\", \"Skeleton Women's Skeleton\",\n",
       "       \"Bobsleigh Men's Four/Five\",\n",
       "       'Art Competitions Mixed Painting, Drawings And Water Colors',\n",
       "       \"Shooting Men's Dueling Pistol, 30 metres\",\n",
       "       \"Boxing Women's Lightweight\", \"Cycling Women's BMX\",\n",
       "       \"Canoeing Men's Kayak Doubles, 200 metres\",\n",
       "       \"Fencing Men's Sabre, Masters, Individual\",\n",
       "       \"Lacrosse Men's Lacrosse\",\n",
       "       \"Canoeing Women's Kayak Singles, 500 metres\",\n",
       "       \"Athletics Women's 10 kilometres Walk\", 'Sailing Mixed 12 metres',\n",
       "       \"Judo Women's Extra-Lightweight\",\n",
       "       \"Diving Men's Synchronized Springboard\",\n",
       "       \"Rowing Men's Coxed Fours, Outriggers\",\n",
       "       \"Gymnastics Men's Rope Climbing\",\n",
       "       'Sailing Mixed Two Person Dinghy',\n",
       "       'Art Competitions Mixed Architecture, Unknown Event',\n",
       "       \"Archery Men's Target Archery, 28 metres, Team\",\n",
       "       \"Archery Men's Target Archery, 33 metres, Team\",\n",
       "       \"Archery Men's Target Archery, 50 metres, Team\",\n",
       "       \"Short Track Speed Skating Women's 3,000 metres Relay\",\n",
       "       \"Freestyle Skiing Women's Moguls\",\n",
       "       \"Short Track Speed Skating Men's 500 metres\",\n",
       "       \"Shooting Men's Running Target, 10 metres\", \"Polo Men's Polo\",\n",
       "       \"Rowing Men's Coxed Fours, Inriggers\", \"Cycling Men's BMX\",\n",
       "       'Art Competitions Mixed Sculpturing',\n",
       "       \"Athletics Men's Cross-Country, Individual\",\n",
       "       \"Athletics Men's Cross-Country, Team\", 'Sailing Mixed 40 metres',\n",
       "       \"Cross Country Skiing Men's 10/10 kilometres Pursuit\",\n",
       "       \"Ski Jumping Women's Normal Hill, Individual\",\n",
       "       \"Short Track Speed Skating Men's 1,000 metres\",\n",
       "       \"Short Track Speed Skating Men's 1,500 metres\",\n",
       "       \"Gymnastics Men's Club Swinging\", \"Tennis Women's Singles\",\n",
       "       'Tennis Mixed Doubles', \"Tennis Women's Doubles\",\n",
       "       \"Judo Women's Middleweight\", \"Judo Women's Lightweight\",\n",
       "       \"Cross Country Skiing Men's Team Sprint\",\n",
       "       \"Snowboarding Women's Halfpipe\",\n",
       "       \"Canoeing Women's Kayak Singles, 200 metres\",\n",
       "       \"Canoeing Men's Kayak Relay 4 x 500 metres\",\n",
       "       \"Athletics Men's 3,000 metres, Team\",\n",
       "       \"Cross Country Skiing Women's Sprint\",\n",
       "       \"Shooting Men's Small-Bore Rifle, Prone, 50 and 100 yards\",\n",
       "       \"Shooting Men's Small-Bore Rifle, 50 and 100 yards, Team\",\n",
       "       \"Shooting Men's Small-Bore Rifle, Disappearing Target, 25 yards\",\n",
       "       \"Shooting Men's Small-Bore Rifle, Moving Target, 25 yards\",\n",
       "       \"Shooting Men's Military Pistol, Team\",\n",
       "       \"Rowing Women's Coxed Fours\",\n",
       "       \"Weightlifting Men's Unlimited, One Hand\",\n",
       "       \"Canoeing Men's Canadian Singles, 500 metres\",\n",
       "       \"Fencing Men's Foil, Masters, Individual\",\n",
       "       \"Fencing Men's epee, Masters, Individual\",\n",
       "       \"Gymnastics Men's Individual All-Around, Field Sports\",\n",
       "       \"Gymnastics Men's Individual All-Around, Apparatus Work\",\n",
       "       'Art Competitions Mixed Music, Compositions For Solo Or Chorus',\n",
       "       \"Fencing Women's epee, Team\",\n",
       "       \"Swimming Men's 4,000 metres Freestyle\",\n",
       "       \"Swimming Men's Underwater Swimming\", 'Sailing Mixed Skiff',\n",
       "       \"Shooting Men's Military Rifle, 200/500/600/800/900/1,000 Yards, Team\",\n",
       "       \"Shooting Men's Running Target, Single And Double Shot\",\n",
       "       \"Shooting Men's Small-Bore Rifle, Any Position, 50 metres\",\n",
       "       \"Shooting Men's Small-Bore Rifle, Disappearing Target, 25 metres\",\n",
       "       \"Swimming Women's 10 kilometres Open Water\",\n",
       "       \"Snowboarding Women's Slopestyle\",\n",
       "       \"Snowboarding Men's Giant Slalom\",\n",
       "       \"Snowboarding Men's Parallel Giant Slalom\",\n",
       "       \"Snowboarding Men's Boardercross\",\n",
       "       \"Snowboarding Men's Parallel Slalom\",\n",
       "       \"Cycling Men's Team Pursuit, 1,980 yards\",\n",
       "       \"Cycling Men's 5,000 metres\", \"Cycling Men's 100 kilometres\",\n",
       "       \"Cricket Men's Cricket\",\n",
       "       \"Canoeing Men's Canadian Singles, 10,000 metres\",\n",
       "       \"Cross Country Skiing Women's Team Sprint\",\n",
       "       \"Boxing Women's Middleweight\", \"Sailing Men's Skiff\",\n",
       "       \"Athletics Men's Pentathlon\",\n",
       "       \"Swimming Men's 1,200 metres Freestyle\", \"Shooting Women's Skeet\",\n",
       "       \"Biathlon Men's 15 kilometres Mass Start\",\n",
       "       \"Cross Country Skiing Men's 30 km Skiathlon\",\n",
       "       \"Cycling Men's 1/4 mile\", \"Cycling Men's 1/2 mile\",\n",
       "       \"Cycling Men's 5 mile\", \"Cycling Men's 25 mile\",\n",
       "       \"Shooting Men's Small-Bore Rifle, Standing, 50 metres\",\n",
       "       \"Shooting Men's Small Bore-Rifle, Standing, 50 metres, Team\",\n",
       "       \"Speed Skating Men's Team Pursuit (8 laps)\",\n",
       "       \"Shooting Men's Free Rifle, 1,000 Yards\",\n",
       "       \"Cycling Women's Team Pursuit\",\n",
       "       \"Speed Skating Women's 5,000 metres\",\n",
       "       \"Athletics Men's 3,000 metres Walk\",\n",
       "       \"Snowboarding Women's Boardercross\",\n",
       "       'Shooting Mixed Running Target, 50 metres',\n",
       "       'Luge Mixed Team Relay', \"Cycling Women's Individual Time Trial\",\n",
       "       \"Fencing Women's Sabre, Individual\",\n",
       "       \"Fencing Men's Sabre, Individual, Three Hits\",\n",
       "       \"Archery Women's Double National Round\", \"Cycling Men's Omnium\",\n",
       "       'Equestrianism Mixed Hacks And Hunter Combined',\n",
       "       'Sailing Mixed 10 metres', \"Shooting Men's Trap, Team\",\n",
       "       \"Cycling Women's Individual Pursuit, 3,000 metres\",\n",
       "       \"Cycling Women's Points Race\", \"Sailing Men's Two Person Keelboat\",\n",
       "       \"Cycling Men's Keirin\", \"Cycling Men's Team Sprint\",\n",
       "       \"Athletics Men's 5 mile\",\n",
       "       \"Shooting Men's Running Target, Single Shot, Team\",\n",
       "       \"Bobsleigh Women's Two\", \"Racquets Men's Singles\",\n",
       "       \"Racquets Men's Doubles\",\n",
       "       'Art Competitions Mixed Literature, Lyric Works',\n",
       "       'Motorboating Mixed A-Class (Open)',\n",
       "       \"Archery Men's Continental Style\",\n",
       "       \"Military Ski Patrol Men's Military Ski Patrol\",\n",
       "       'Art Competitions Mixed Painting, Graphic Arts',\n",
       "       \"Wrestling Women's Flyweight, Freestyle\",\n",
       "       'Art Competitions Mixed Literature, Unknown Event',\n",
       "       'Sailing Mixed 0.5-1 Ton',\n",
       "       'Art Competitions Mixed Painting, Applied Arts',\n",
       "       'Croquet Mixed Singles, One Ball', 'Croquet Mixed Doubles',\n",
       "       \"Shooting Men's Running Target, Double Shot, Team\",\n",
       "       \"Shooting Men's Free Pistol, 50 yards\",\n",
       "       \"Shooting Men's Free Pistol, 50 yards, Team\",\n",
       "       \"Fencing Men's epee, Masters and Amateurs, Individual\",\n",
       "       \"Swimming Men's 10 kilometres Open Water\",\n",
       "       'Art Competitions Mixed Music, Compositions For Orchestra',\n",
       "       \"Archery Men's Double York Round\",\n",
       "       \"Wrestling Women's Middleweight, Freestyle\",\n",
       "       \"Equestrianism Men's Vaulting, Individual\",\n",
       "       \"Swimming Men's 4 x 250 metres Freestyle Relay\",\n",
       "       \"Freestyle Skiing Women's Slopestyle\", \"Table Tennis Women's Team\",\n",
       "       \"Athletics Women's Hammer Throw\",\n",
       "       \"Canoeing Men's Kayak Singles, 200 metres\",\n",
       "       \"Short Track Speed Skating Women's 500 metres\",\n",
       "       \"Shooting Women's Double Trap\",\n",
       "       \"Rowing Men's 6-Man Naval Rowing Boats\",\n",
       "       'Art Competitions Mixed Music',\n",
       "       \"Shooting Men's Free Rifle, Kneeling, 300 metres\",\n",
       "       \"Shooting Men's Free Rifle, Prone, 300 metres\",\n",
       "       \"Shooting Men's Free Rifle, Standing, 300 metres\",\n",
       "       \"Short Track Speed Skating Women's 1,000 metres\",\n",
       "       \"Athletics Men's 3,200 metres Steeplechase\",\n",
       "       \"Rowing Women's Coxless Fours\",\n",
       "       \"Freestyle Skiing Women's Ski Cross\",\n",
       "       \"Freestyle Skiing Men's Ski Cross\",\n",
       "       \"Tennis Men's Doubles, Covered Courts\",\n",
       "       \"Tennis Men's Singles, Covered Courts\",\n",
       "       \"Cycling Men's 25 kilometres\",\n",
       "       \"Nordic Combined Men's Normal Hill / 10 km, Individual\",\n",
       "       \"Nordic Combined Men's Large Hill / 10 km, Individual\",\n",
       "       \"Shooting Men's Military Rifle, 200 metres\",\n",
       "       \"Short Track Speed Skating Women's 1,500 metres\",\n",
       "       \"Athletics Men's Standing Triple Jump\",\n",
       "       \"Rowing Men's Coxed Pairs (1 kilometres)\",\n",
       "       \"Shooting Men's Military Pistol, 30 metres\",\n",
       "       \"Cycling Women's Keirin\",\n",
       "       \"Archery Men's Au Cordon Dore, 50 metres\",\n",
       "       \"Swimming Women's 300 metres Freestyle\",\n",
       "       \"Snowboarding Women's Giant Slalom\",\n",
       "       \"Canoeing Men's Canadian Singles, 200 metres\",\n",
       "       'Sailing Mixed 30 metres',\n",
       "       \"Athletics Men's 4,000 metres Steeplechase\",\n",
       "       \"Athletics Men's 5,000 metres, Team\",\n",
       "       \"Snowboarding Men's Slopestyle\",\n",
       "       \"Rowing Men's Coxed Pairs (1 mile)\",\n",
       "       'Art Competitions Mixed Unknown Event', \"Cycling Women's Omnium\",\n",
       "       \"Freestyle Skiing Men's Halfpipe\",\n",
       "       \"Swimming Men's 200 metres Obstacle Course\",\n",
       "       \"Swimming Men's 200 metres Team Swimming\", 'Sailing Mixed 12 foot',\n",
       "       'Art Competitions Mixed Music, Instrumental And Chamber',\n",
       "       'Art Competitions Mixed Music, Vocals',\n",
       "       'Art Competitions Mixed Literature, Dramatic Works',\n",
       "       \"Jeu De Paume Men's Singles\", 'Sailing Mixed 10-20 Ton',\n",
       "       \"Cycling Men's 1/3 mile\", \"Cycling Men's 1 mile\",\n",
       "       \"Cycling Men's 2 mile\",\n",
       "       'Art Competitions Mixed Sculpturing, Medals And Plaques',\n",
       "       \"Athletics Men's 1,600 metres Medley Relay\",\n",
       "       'Croquet Mixed Singles, Two Balls',\n",
       "       \"Canoeing Men's Folding Kayak Doubles, 10 kilometres\",\n",
       "       \"Athletics Men's 60 metres\",\n",
       "       \"Snowboarding Women's Parallel Giant Slalom\",\n",
       "       'Sailing Mixed 2-3 Ton', \"Speed Skating Men's Allround\",\n",
       "       \"Shooting Men's Military Rifle, Prone, 600 metres\",\n",
       "       \"Canoeing Men's Canadian Doubles, 10,000 metres\",\n",
       "       \"Snowboarding Women's Parallel Slalom\",\n",
       "       \"Shooting Men's Dueling Pistol, 30 metres, Team\",\n",
       "       \"Gymnastics Men's Parallel Bars, Teams\",\n",
       "       \"Gymnastics Men's Horizontal Bar, Teams\",\n",
       "       \"Shooting Men's Small-Bore Rifle, Disappearing Target, 25 metres, Team\",\n",
       "       'Art Competitions Mixed Sculpturing, Medals And Reliefs',\n",
       "       \"Athletics Men's 1,500 metres Walk\",\n",
       "       \"Athletics Men's 3 mile, Team\",\n",
       "       'Art Competitions Mixed Sculpturing, Medals',\n",
       "       \"Shooting Men's Military Rifle, Kneeling Or Standing, 300 metres\",\n",
       "       \"Equestrianism Men's Vaulting, Team\",\n",
       "       \"Shooting Men's Free Rifle, Any Position, 300 metres\",\n",
       "       \"Shooting Men's Military Rifle, 1873-1874 Gras Model, Kneeling Or Standing, 200 metres\",\n",
       "       \"Swimming Men's 100 Yard Backstroke\",\n",
       "       \"Swimming Men's 440 Yard Breaststroke\",\n",
       "       'Art Competitions Mixed Literature, Epic Works',\n",
       "       'Art Competitions Mixed Architecture',\n",
       "       \"Athletics Men's 3,500 metres Walk\", \"Roque Men's Singles\",\n",
       "       \"Gymnastics Men's Side Horse\", 'Alpinism Mixed Alpinism',\n",
       "       \"Archery Men's Double American Round\", \"Archery Men's Team Round\",\n",
       "       \"Archery Men's Target Archery, 33 metres, Individual\",\n",
       "       \"Archery Men's Target Archery, 50 metres, Individual\",\n",
       "       \"Swimming Men's 1,000 metres Freestyle\",\n",
       "       \"Athletics Men's 10 mile Walk\",\n",
       "       \"Athletics Men's Discus Throw, Both Hands\", \"Golf Men's Team\",\n",
       "       'Sailing Mixed 0-0.5 Ton', 'Sailing Mixed 20+ Ton',\n",
       "       \"Cycling Women's Team Sprint\",\n",
       "       \"Weightlifting Men's Unlimited, Two Hands\",\n",
       "       \"Shooting Men's Free Pistol, 25 metres\",\n",
       "       \"Shooting Men's Military Revolver, 1873-1874 Gras Model, 20 metres\",\n",
       "       \"Shooting Men's Military Revolver, 20 metres\",\n",
       "       \"Shooting Men's Dueling Pistol Au Vise 20 metres\",\n",
       "       \"Shooting Men's Dueling Pistol Au Commandement, 25 metres\",\n",
       "       \"Shooting Men's Small-Bore Rifle, Prone, 50 metres, Team\",\n",
       "       'Sailing Mixed 6.5 metres', \"Athletics Men's 200 metres Hurdles\",\n",
       "       \"Athletics Men's 56-pound Weight Throw\",\n",
       "       'Equestrianism Mixed Four-In-Hand Competition',\n",
       "       \"Athletics Men's 2,500 metres Steeplechase\",\n",
       "       'Art Competitions Mixed Music, Unknown Event',\n",
       "       \"Athletics Men's All-Around Championship\",\n",
       "       \"Archery Men's Pole Archery, Small Birds, Individual\",\n",
       "       \"Archery Men's Pole Archery, Large Birds, Individual\",\n",
       "       \"Archery Men's Pole Archery, Small Birds, Team\",\n",
       "       \"Archery Men's Pole Archery, Large Birds, Team\",\n",
       "       \"Athletics Men's 2,590 metres Steeplechase\",\n",
       "       \"Archery Women's Double Columbia Round\",\n",
       "       \"Athletics Men's 4 mile, Team\",\n",
       "       \"Figure Skating Men's Special Figures\",\n",
       "       \"Shooting Men's Military Rifle, Standing, 300 metres\",\n",
       "       \"Swimming Men's 50 yard Freestyle\",\n",
       "       \"Swimming Men's 100 yard Freestyle\",\n",
       "       \"Swimming Men's 440 yard Freestyle\",\n",
       "       \"Basque Pelota Men's Two-Man Teams With Cesta\",\n",
       "       \"Shooting Men's Trap, Single Shot, 16 metres\",\n",
       "       \"Shooting Men's Trap, Double Shot, 14 metres\",\n",
       "       'Equestrianism Mixed Long Jump',\n",
       "       \"Canoeing Men's Folding Kayak Singles, 10 kilometres\",\n",
       "       \"Shooting Men's Free Pistol, 30 metres\",\n",
       "       \"Shooting Men's Military Pistol, 25 metres\",\n",
       "       \"Swimming Men's 100 metres Freestyle For Sailors\",\n",
       "       \"Archery Men's Sur La Perche a La Herse\", 'Sailing Mixed 3-10 Ton',\n",
       "       \"Gymnastics Men's Individual All-Around, 4 Events\",\n",
       "       \"Wrestling Men's Unlimited Class, Greco-Roman\",\n",
       "       'Motorboating Mixed B-Class (Under 60 Feet)',\n",
       "       'Motorboating Mixed C-Class', \"Cycling Men's 10,000 metres\",\n",
       "       'Art Competitions Mixed Sculpturing, Reliefs',\n",
       "       \"Shooting Men's Muzzle-Loading Pistol, 25 metres\",\n",
       "       'Equestrianism Mixed High Jump',\n",
       "       \"Archery Men's Sur La Perche a La Pyramide\",\n",
       "       \"Fencing Men's Single Sticks, Individual\",\n",
       "       \"Gymnastics Men's Tumbling\", \"Shooting Men's Unknown Event\",\n",
       "       'Sailing Mixed 18 foot', \"Archery Men's Unknown Event\",\n",
       "       \"Archery Men's Au Chapelet, 50 metres\",\n",
       "       \"Archery Men's Championnat Du Monde\", \"Archery Women's Team Round\",\n",
       "       \"Wrestling Men's All-Around, Greco-Roman\",\n",
       "       \"Cycling Men's 12-Hours Race\",\n",
       "       \"Swimming Men's 500 metres Freestyle\",\n",
       "       \"Weightlifting Men's All-Around Dumbbell Contest\",\n",
       "       \"Archery Men's Au Chapelet, 33 metres\",\n",
       "       \"Archery Men's Au Cordon Dore, 33 metres\",\n",
       "       \"Archery Men's Target Archery, 28 metres, Individual\",\n",
       "       'Aeronautics Mixed Aeronautics'], dtype=object)"
      ]
     },
     "execution_count": 7,
     "metadata": {},
     "output_type": "execute_result"
    }
   ],
   "source": [
    "df[\"Event\"].unique()"
   ]
  },
  {
   "cell_type": "code",
   "execution_count": 8,
   "metadata": {},
   "outputs": [
    {
     "data": {
      "text/plain": [
       "array([nan, 'Gold', 'Bronze', 'Silver'], dtype=object)"
      ]
     },
     "execution_count": 8,
     "metadata": {},
     "output_type": "execute_result"
    }
   ],
   "source": [
    "df[\"Medal\"].unique()"
   ]
  },
  {
   "cell_type": "code",
   "execution_count": 9,
   "metadata": {},
   "outputs": [
    {
     "name": "stdout",
     "output_type": "stream",
     "text": [
      "24.0\n",
      "10.0\n",
      "97.0\n",
      "25.556898357297374\n",
      "6.393560847035813\n"
     ]
    }
   ],
   "source": [
    "print(df[\"Age\"].median())\n",
    "print(df[\"Age\"].min())\n",
    "print(df[\"Age\"].max())\n",
    "print(df[\"Age\"].mean())\n",
    "print(df[\"Age\"].std())"
   ]
  },
  {
   "cell_type": "code",
   "execution_count": 10,
   "metadata": {},
   "outputs": [
    {
     "data": {
      "text/html": [
       "<div>\n",
       "<style scoped>\n",
       "    .dataframe tbody tr th:only-of-type {\n",
       "        vertical-align: middle;\n",
       "    }\n",
       "\n",
       "    .dataframe tbody tr th {\n",
       "        vertical-align: top;\n",
       "    }\n",
       "\n",
       "    .dataframe thead th {\n",
       "        text-align: right;\n",
       "    }\n",
       "</style>\n",
       "<table border=\"1\" class=\"dataframe\">\n",
       "  <thead>\n",
       "    <tr style=\"text-align: right;\">\n",
       "      <th></th>\n",
       "      <th>ID</th>\n",
       "      <th>Name</th>\n",
       "      <th>Sex</th>\n",
       "      <th>Age</th>\n",
       "      <th>Height</th>\n",
       "      <th>Weight</th>\n",
       "      <th>Team</th>\n",
       "      <th>NOC</th>\n",
       "      <th>Games</th>\n",
       "      <th>Year</th>\n",
       "      <th>Season</th>\n",
       "      <th>City</th>\n",
       "      <th>Sport</th>\n",
       "      <th>Event</th>\n",
       "      <th>Medal</th>\n",
       "    </tr>\n",
       "  </thead>\n",
       "  <tbody>\n",
       "    <tr>\n",
       "      <th>142882</th>\n",
       "      <td>71691</td>\n",
       "      <td>Dimitrios Loundras</td>\n",
       "      <td>M</td>\n",
       "      <td>10.0</td>\n",
       "      <td>NaN</td>\n",
       "      <td>NaN</td>\n",
       "      <td>Ethnikos Gymnastikos Syllogos</td>\n",
       "      <td>GRE</td>\n",
       "      <td>1896 Summer</td>\n",
       "      <td>1896</td>\n",
       "      <td>Summer</td>\n",
       "      <td>Athina</td>\n",
       "      <td>Gymnastics</td>\n",
       "      <td>Gymnastics Men's Parallel Bars, Teams</td>\n",
       "      <td>Bronze</td>\n",
       "    </tr>\n",
       "  </tbody>\n",
       "</table>\n",
       "</div>"
      ],
      "text/plain": [
       "           ID                Name Sex   Age  Height  Weight  \\\n",
       "142882  71691  Dimitrios Loundras   M  10.0     NaN     NaN   \n",
       "\n",
       "                                 Team  NOC        Games  Year  Season    City  \\\n",
       "142882  Ethnikos Gymnastikos Syllogos  GRE  1896 Summer  1896  Summer  Athina   \n",
       "\n",
       "             Sport                                  Event   Medal  \n",
       "142882  Gymnastics  Gymnastics Men's Parallel Bars, Teams  Bronze  "
      ]
     },
     "execution_count": 10,
     "metadata": {},
     "output_type": "execute_result"
    }
   ],
   "source": [
    "df[df[\"Age\"] == df[\"Age\"].min()]"
   ]
  },
  {
   "cell_type": "code",
   "execution_count": 11,
   "metadata": {},
   "outputs": [
    {
     "data": {
      "text/html": [
       "<div>\n",
       "<style scoped>\n",
       "    .dataframe tbody tr th:only-of-type {\n",
       "        vertical-align: middle;\n",
       "    }\n",
       "\n",
       "    .dataframe tbody tr th {\n",
       "        vertical-align: top;\n",
       "    }\n",
       "\n",
       "    .dataframe thead th {\n",
       "        text-align: right;\n",
       "    }\n",
       "</style>\n",
       "<table border=\"1\" class=\"dataframe\">\n",
       "  <thead>\n",
       "    <tr style=\"text-align: right;\">\n",
       "      <th></th>\n",
       "      <th>ID</th>\n",
       "      <th>Name</th>\n",
       "      <th>Sex</th>\n",
       "      <th>Age</th>\n",
       "      <th>Height</th>\n",
       "      <th>Weight</th>\n",
       "      <th>Team</th>\n",
       "      <th>NOC</th>\n",
       "      <th>Games</th>\n",
       "      <th>Year</th>\n",
       "      <th>Season</th>\n",
       "      <th>City</th>\n",
       "      <th>Sport</th>\n",
       "      <th>Event</th>\n",
       "      <th>Medal</th>\n",
       "    </tr>\n",
       "  </thead>\n",
       "  <tbody>\n",
       "    <tr>\n",
       "      <th>257054</th>\n",
       "      <td>128719</td>\n",
       "      <td>John Quincy Adams Ward</td>\n",
       "      <td>M</td>\n",
       "      <td>97.0</td>\n",
       "      <td>NaN</td>\n",
       "      <td>NaN</td>\n",
       "      <td>United States</td>\n",
       "      <td>USA</td>\n",
       "      <td>1928 Summer</td>\n",
       "      <td>1928</td>\n",
       "      <td>Summer</td>\n",
       "      <td>Amsterdam</td>\n",
       "      <td>Art Competitions</td>\n",
       "      <td>Art Competitions Mixed Sculpturing, Statues</td>\n",
       "      <td>NaN</td>\n",
       "    </tr>\n",
       "  </tbody>\n",
       "</table>\n",
       "</div>"
      ],
      "text/plain": [
       "            ID                    Name Sex   Age  Height  Weight  \\\n",
       "257054  128719  John Quincy Adams Ward   M  97.0     NaN     NaN   \n",
       "\n",
       "                 Team  NOC        Games  Year  Season       City  \\\n",
       "257054  United States  USA  1928 Summer  1928  Summer  Amsterdam   \n",
       "\n",
       "                   Sport                                        Event Medal  \n",
       "257054  Art Competitions  Art Competitions Mixed Sculpturing, Statues   NaN  "
      ]
     },
     "execution_count": 11,
     "metadata": {},
     "output_type": "execute_result"
    }
   ],
   "source": [
    "df[df[\"Age\"] == df[\"Age\"].max()]"
   ]
  },
  {
   "cell_type": "code",
   "execution_count": 12,
   "metadata": {},
   "outputs": [
    {
     "data": {
      "text/plain": [
       "Name\n",
       "Michael Fred Phelps, II               23\n",
       "Raymond Clarence \"Ray\" Ewry           10\n",
       "Paavo Johannes Nurmi                   9\n",
       "Larysa Semenivna Latynina (Diriy-)     9\n",
       "Mark Andrew Spitz                      9\n",
       "                                      ..\n",
       "Hermann \"Hannes\" Hansen                1\n",
       "Hermann Alexandre de Pourtals          1\n",
       "Hermann Gehri                          1\n",
       "Hermann Joseph Barrelet                1\n",
       "ystein Pettersen                       1\n",
       "Name: Medal, Length: 10413, dtype: int64"
      ]
     },
     "execution_count": 12,
     "metadata": {},
     "output_type": "execute_result"
    }
   ],
   "source": [
    "golds = df[df[\"Medal\"] == \"Gold\"]\n",
    "golds.groupby(\"Name\")[\"Medal\"].count().sort_values(ascending = False)"
   ]
  },
  {
   "cell_type": "code",
   "execution_count": 13,
   "metadata": {},
   "outputs": [
    {
     "data": {
      "text/plain": [
       "Name\n",
       "Michael Fred Phelps, II               28\n",
       "Larysa Semenivna Latynina (Diriy-)    18\n",
       "Nikolay Yefimovich Andrianov          15\n",
       "Takashi Ono                           13\n",
       "Borys Anfiyanovych Shakhlin           13\n",
       "                                      ..\n",
       "Hugo Ernesto Romero Iza                0\n",
       "Hugo Ernesto Perez                     0\n",
       "Hugo Dufey                             0\n",
       "Hugo Dionisio Chila Ayov               0\n",
       "zzet nce                               0\n",
       "Name: Medal, Length: 134732, dtype: int64"
      ]
     },
     "execution_count": 13,
     "metadata": {},
     "output_type": "execute_result"
    }
   ],
   "source": [
    "df.groupby(\"Name\")[\"Medal\"].count().sort_values(ascending=False)"
   ]
  },
  {
   "cell_type": "code",
   "execution_count": 14,
   "metadata": {},
   "outputs": [
    {
     "data": {
      "text/html": [
       "<div>\n",
       "<style scoped>\n",
       "    .dataframe tbody tr th:only-of-type {\n",
       "        vertical-align: middle;\n",
       "    }\n",
       "\n",
       "    .dataframe tbody tr th {\n",
       "        vertical-align: top;\n",
       "    }\n",
       "\n",
       "    .dataframe thead th {\n",
       "        text-align: right;\n",
       "    }\n",
       "</style>\n",
       "<table border=\"1\" class=\"dataframe\">\n",
       "  <thead>\n",
       "    <tr style=\"text-align: right;\">\n",
       "      <th></th>\n",
       "      <th>NOC</th>\n",
       "      <th>Medals_count</th>\n",
       "    </tr>\n",
       "  </thead>\n",
       "  <tbody>\n",
       "    <tr>\n",
       "      <th>216</th>\n",
       "      <td>USA</td>\n",
       "      <td>5637</td>\n",
       "    </tr>\n",
       "    <tr>\n",
       "      <th>214</th>\n",
       "      <td>URS</td>\n",
       "      <td>2503</td>\n",
       "    </tr>\n",
       "    <tr>\n",
       "      <th>79</th>\n",
       "      <td>GER</td>\n",
       "      <td>2165</td>\n",
       "    </tr>\n",
       "    <tr>\n",
       "      <th>74</th>\n",
       "      <td>GBR</td>\n",
       "      <td>2068</td>\n",
       "    </tr>\n",
       "    <tr>\n",
       "      <th>69</th>\n",
       "      <td>FRA</td>\n",
       "      <td>1777</td>\n",
       "    </tr>\n",
       "    <tr>\n",
       "      <th>100</th>\n",
       "      <td>ITA</td>\n",
       "      <td>1637</td>\n",
       "    </tr>\n",
       "    <tr>\n",
       "      <th>193</th>\n",
       "      <td>SWE</td>\n",
       "      <td>1536</td>\n",
       "    </tr>\n",
       "    <tr>\n",
       "      <th>36</th>\n",
       "      <td>CAN</td>\n",
       "      <td>1352</td>\n",
       "    </tr>\n",
       "    <tr>\n",
       "      <th>12</th>\n",
       "      <td>AUS</td>\n",
       "      <td>1320</td>\n",
       "    </tr>\n",
       "    <tr>\n",
       "      <th>171</th>\n",
       "      <td>RUS</td>\n",
       "      <td>1165</td>\n",
       "    </tr>\n",
       "  </tbody>\n",
       "</table>\n",
       "</div>"
      ],
      "text/plain": [
       "     NOC  Medals_count\n",
       "216  USA          5637\n",
       "214  URS          2503\n",
       "79   GER          2165\n",
       "74   GBR          2068\n",
       "69   FRA          1777\n",
       "100  ITA          1637\n",
       "193  SWE          1536\n",
       "36   CAN          1352\n",
       "12   AUS          1320\n",
       "171  RUS          1165"
      ]
     },
     "execution_count": 14,
     "metadata": {},
     "output_type": "execute_result"
    }
   ],
   "source": [
    "medals_per_country = df.groupby(\"NOC\")[\"Medal\"].count().reset_index(name=\"Medals_count\").sort_values(\"Medals_count\",ascending=False)\n",
    "medals_per_country.head(10)"
   ]
  },
  {
   "cell_type": "code",
   "execution_count": 15,
   "metadata": {},
   "outputs": [
    {
     "data": {
      "application/vnd.plotly.v1+json": {
       "config": {
        "plotlyServerURL": "https://plot.ly"
       },
       "data": [
        {
         "alignmentgroup": "True",
         "hovertemplate": "NOC=%{x}<br>Medals_count=%{y}<extra></extra>",
         "legendgroup": "",
         "marker": {
          "color": "#636efa",
          "pattern": {
           "shape": ""
          }
         },
         "name": "",
         "offsetgroup": "",
         "orientation": "v",
         "showlegend": false,
         "textposition": "auto",
         "type": "bar",
         "x": [
          "USA",
          "URS",
          "GER",
          "GBR",
          "FRA",
          "ITA",
          "SWE",
          "CAN",
          "AUS",
          "RUS"
         ],
         "xaxis": "x",
         "y": [
          5637,
          2503,
          2165,
          2068,
          1777,
          1637,
          1536,
          1352,
          1320,
          1165
         ],
         "yaxis": "y"
        }
       ],
       "layout": {
        "barmode": "relative",
        "legend": {
         "tracegroupgap": 0
        },
        "margin": {
         "t": 60
        },
        "template": {
         "data": {
          "bar": [
           {
            "error_x": {
             "color": "#2a3f5f"
            },
            "error_y": {
             "color": "#2a3f5f"
            },
            "marker": {
             "line": {
              "color": "#E5ECF6",
              "width": 0.5
             },
             "pattern": {
              "fillmode": "overlay",
              "size": 10,
              "solidity": 0.2
             }
            },
            "type": "bar"
           }
          ],
          "barpolar": [
           {
            "marker": {
             "line": {
              "color": "#E5ECF6",
              "width": 0.5
             },
             "pattern": {
              "fillmode": "overlay",
              "size": 10,
              "solidity": 0.2
             }
            },
            "type": "barpolar"
           }
          ],
          "carpet": [
           {
            "aaxis": {
             "endlinecolor": "#2a3f5f",
             "gridcolor": "white",
             "linecolor": "white",
             "minorgridcolor": "white",
             "startlinecolor": "#2a3f5f"
            },
            "baxis": {
             "endlinecolor": "#2a3f5f",
             "gridcolor": "white",
             "linecolor": "white",
             "minorgridcolor": "white",
             "startlinecolor": "#2a3f5f"
            },
            "type": "carpet"
           }
          ],
          "choropleth": [
           {
            "colorbar": {
             "outlinewidth": 0,
             "ticks": ""
            },
            "type": "choropleth"
           }
          ],
          "contour": [
           {
            "colorbar": {
             "outlinewidth": 0,
             "ticks": ""
            },
            "colorscale": [
             [
              0,
              "#0d0887"
             ],
             [
              0.1111111111111111,
              "#46039f"
             ],
             [
              0.2222222222222222,
              "#7201a8"
             ],
             [
              0.3333333333333333,
              "#9c179e"
             ],
             [
              0.4444444444444444,
              "#bd3786"
             ],
             [
              0.5555555555555556,
              "#d8576b"
             ],
             [
              0.6666666666666666,
              "#ed7953"
             ],
             [
              0.7777777777777778,
              "#fb9f3a"
             ],
             [
              0.8888888888888888,
              "#fdca26"
             ],
             [
              1,
              "#f0f921"
             ]
            ],
            "type": "contour"
           }
          ],
          "contourcarpet": [
           {
            "colorbar": {
             "outlinewidth": 0,
             "ticks": ""
            },
            "type": "contourcarpet"
           }
          ],
          "heatmap": [
           {
            "colorbar": {
             "outlinewidth": 0,
             "ticks": ""
            },
            "colorscale": [
             [
              0,
              "#0d0887"
             ],
             [
              0.1111111111111111,
              "#46039f"
             ],
             [
              0.2222222222222222,
              "#7201a8"
             ],
             [
              0.3333333333333333,
              "#9c179e"
             ],
             [
              0.4444444444444444,
              "#bd3786"
             ],
             [
              0.5555555555555556,
              "#d8576b"
             ],
             [
              0.6666666666666666,
              "#ed7953"
             ],
             [
              0.7777777777777778,
              "#fb9f3a"
             ],
             [
              0.8888888888888888,
              "#fdca26"
             ],
             [
              1,
              "#f0f921"
             ]
            ],
            "type": "heatmap"
           }
          ],
          "heatmapgl": [
           {
            "colorbar": {
             "outlinewidth": 0,
             "ticks": ""
            },
            "colorscale": [
             [
              0,
              "#0d0887"
             ],
             [
              0.1111111111111111,
              "#46039f"
             ],
             [
              0.2222222222222222,
              "#7201a8"
             ],
             [
              0.3333333333333333,
              "#9c179e"
             ],
             [
              0.4444444444444444,
              "#bd3786"
             ],
             [
              0.5555555555555556,
              "#d8576b"
             ],
             [
              0.6666666666666666,
              "#ed7953"
             ],
             [
              0.7777777777777778,
              "#fb9f3a"
             ],
             [
              0.8888888888888888,
              "#fdca26"
             ],
             [
              1,
              "#f0f921"
             ]
            ],
            "type": "heatmapgl"
           }
          ],
          "histogram": [
           {
            "marker": {
             "pattern": {
              "fillmode": "overlay",
              "size": 10,
              "solidity": 0.2
             }
            },
            "type": "histogram"
           }
          ],
          "histogram2d": [
           {
            "colorbar": {
             "outlinewidth": 0,
             "ticks": ""
            },
            "colorscale": [
             [
              0,
              "#0d0887"
             ],
             [
              0.1111111111111111,
              "#46039f"
             ],
             [
              0.2222222222222222,
              "#7201a8"
             ],
             [
              0.3333333333333333,
              "#9c179e"
             ],
             [
              0.4444444444444444,
              "#bd3786"
             ],
             [
              0.5555555555555556,
              "#d8576b"
             ],
             [
              0.6666666666666666,
              "#ed7953"
             ],
             [
              0.7777777777777778,
              "#fb9f3a"
             ],
             [
              0.8888888888888888,
              "#fdca26"
             ],
             [
              1,
              "#f0f921"
             ]
            ],
            "type": "histogram2d"
           }
          ],
          "histogram2dcontour": [
           {
            "colorbar": {
             "outlinewidth": 0,
             "ticks": ""
            },
            "colorscale": [
             [
              0,
              "#0d0887"
             ],
             [
              0.1111111111111111,
              "#46039f"
             ],
             [
              0.2222222222222222,
              "#7201a8"
             ],
             [
              0.3333333333333333,
              "#9c179e"
             ],
             [
              0.4444444444444444,
              "#bd3786"
             ],
             [
              0.5555555555555556,
              "#d8576b"
             ],
             [
              0.6666666666666666,
              "#ed7953"
             ],
             [
              0.7777777777777778,
              "#fb9f3a"
             ],
             [
              0.8888888888888888,
              "#fdca26"
             ],
             [
              1,
              "#f0f921"
             ]
            ],
            "type": "histogram2dcontour"
           }
          ],
          "mesh3d": [
           {
            "colorbar": {
             "outlinewidth": 0,
             "ticks": ""
            },
            "type": "mesh3d"
           }
          ],
          "parcoords": [
           {
            "line": {
             "colorbar": {
              "outlinewidth": 0,
              "ticks": ""
             }
            },
            "type": "parcoords"
           }
          ],
          "pie": [
           {
            "automargin": true,
            "type": "pie"
           }
          ],
          "scatter": [
           {
            "fillpattern": {
             "fillmode": "overlay",
             "size": 10,
             "solidity": 0.2
            },
            "type": "scatter"
           }
          ],
          "scatter3d": [
           {
            "line": {
             "colorbar": {
              "outlinewidth": 0,
              "ticks": ""
             }
            },
            "marker": {
             "colorbar": {
              "outlinewidth": 0,
              "ticks": ""
             }
            },
            "type": "scatter3d"
           }
          ],
          "scattercarpet": [
           {
            "marker": {
             "colorbar": {
              "outlinewidth": 0,
              "ticks": ""
             }
            },
            "type": "scattercarpet"
           }
          ],
          "scattergeo": [
           {
            "marker": {
             "colorbar": {
              "outlinewidth": 0,
              "ticks": ""
             }
            },
            "type": "scattergeo"
           }
          ],
          "scattergl": [
           {
            "marker": {
             "colorbar": {
              "outlinewidth": 0,
              "ticks": ""
             }
            },
            "type": "scattergl"
           }
          ],
          "scattermapbox": [
           {
            "marker": {
             "colorbar": {
              "outlinewidth": 0,
              "ticks": ""
             }
            },
            "type": "scattermapbox"
           }
          ],
          "scatterpolar": [
           {
            "marker": {
             "colorbar": {
              "outlinewidth": 0,
              "ticks": ""
             }
            },
            "type": "scatterpolar"
           }
          ],
          "scatterpolargl": [
           {
            "marker": {
             "colorbar": {
              "outlinewidth": 0,
              "ticks": ""
             }
            },
            "type": "scatterpolargl"
           }
          ],
          "scatterternary": [
           {
            "marker": {
             "colorbar": {
              "outlinewidth": 0,
              "ticks": ""
             }
            },
            "type": "scatterternary"
           }
          ],
          "surface": [
           {
            "colorbar": {
             "outlinewidth": 0,
             "ticks": ""
            },
            "colorscale": [
             [
              0,
              "#0d0887"
             ],
             [
              0.1111111111111111,
              "#46039f"
             ],
             [
              0.2222222222222222,
              "#7201a8"
             ],
             [
              0.3333333333333333,
              "#9c179e"
             ],
             [
              0.4444444444444444,
              "#bd3786"
             ],
             [
              0.5555555555555556,
              "#d8576b"
             ],
             [
              0.6666666666666666,
              "#ed7953"
             ],
             [
              0.7777777777777778,
              "#fb9f3a"
             ],
             [
              0.8888888888888888,
              "#fdca26"
             ],
             [
              1,
              "#f0f921"
             ]
            ],
            "type": "surface"
           }
          ],
          "table": [
           {
            "cells": {
             "fill": {
              "color": "#EBF0F8"
             },
             "line": {
              "color": "white"
             }
            },
            "header": {
             "fill": {
              "color": "#C8D4E3"
             },
             "line": {
              "color": "white"
             }
            },
            "type": "table"
           }
          ]
         },
         "layout": {
          "annotationdefaults": {
           "arrowcolor": "#2a3f5f",
           "arrowhead": 0,
           "arrowwidth": 1
          },
          "autotypenumbers": "strict",
          "coloraxis": {
           "colorbar": {
            "outlinewidth": 0,
            "ticks": ""
           }
          },
          "colorscale": {
           "diverging": [
            [
             0,
             "#8e0152"
            ],
            [
             0.1,
             "#c51b7d"
            ],
            [
             0.2,
             "#de77ae"
            ],
            [
             0.3,
             "#f1b6da"
            ],
            [
             0.4,
             "#fde0ef"
            ],
            [
             0.5,
             "#f7f7f7"
            ],
            [
             0.6,
             "#e6f5d0"
            ],
            [
             0.7,
             "#b8e186"
            ],
            [
             0.8,
             "#7fbc41"
            ],
            [
             0.9,
             "#4d9221"
            ],
            [
             1,
             "#276419"
            ]
           ],
           "sequential": [
            [
             0,
             "#0d0887"
            ],
            [
             0.1111111111111111,
             "#46039f"
            ],
            [
             0.2222222222222222,
             "#7201a8"
            ],
            [
             0.3333333333333333,
             "#9c179e"
            ],
            [
             0.4444444444444444,
             "#bd3786"
            ],
            [
             0.5555555555555556,
             "#d8576b"
            ],
            [
             0.6666666666666666,
             "#ed7953"
            ],
            [
             0.7777777777777778,
             "#fb9f3a"
            ],
            [
             0.8888888888888888,
             "#fdca26"
            ],
            [
             1,
             "#f0f921"
            ]
           ],
           "sequentialminus": [
            [
             0,
             "#0d0887"
            ],
            [
             0.1111111111111111,
             "#46039f"
            ],
            [
             0.2222222222222222,
             "#7201a8"
            ],
            [
             0.3333333333333333,
             "#9c179e"
            ],
            [
             0.4444444444444444,
             "#bd3786"
            ],
            [
             0.5555555555555556,
             "#d8576b"
            ],
            [
             0.6666666666666666,
             "#ed7953"
            ],
            [
             0.7777777777777778,
             "#fb9f3a"
            ],
            [
             0.8888888888888888,
             "#fdca26"
            ],
            [
             1,
             "#f0f921"
            ]
           ]
          },
          "colorway": [
           "#636efa",
           "#EF553B",
           "#00cc96",
           "#ab63fa",
           "#FFA15A",
           "#19d3f3",
           "#FF6692",
           "#B6E880",
           "#FF97FF",
           "#FECB52"
          ],
          "font": {
           "color": "#2a3f5f"
          },
          "geo": {
           "bgcolor": "white",
           "lakecolor": "white",
           "landcolor": "#E5ECF6",
           "showlakes": true,
           "showland": true,
           "subunitcolor": "white"
          },
          "hoverlabel": {
           "align": "left"
          },
          "hovermode": "closest",
          "mapbox": {
           "style": "light"
          },
          "paper_bgcolor": "white",
          "plot_bgcolor": "#E5ECF6",
          "polar": {
           "angularaxis": {
            "gridcolor": "white",
            "linecolor": "white",
            "ticks": ""
           },
           "bgcolor": "#E5ECF6",
           "radialaxis": {
            "gridcolor": "white",
            "linecolor": "white",
            "ticks": ""
           }
          },
          "scene": {
           "xaxis": {
            "backgroundcolor": "#E5ECF6",
            "gridcolor": "white",
            "gridwidth": 2,
            "linecolor": "white",
            "showbackground": true,
            "ticks": "",
            "zerolinecolor": "white"
           },
           "yaxis": {
            "backgroundcolor": "#E5ECF6",
            "gridcolor": "white",
            "gridwidth": 2,
            "linecolor": "white",
            "showbackground": true,
            "ticks": "",
            "zerolinecolor": "white"
           },
           "zaxis": {
            "backgroundcolor": "#E5ECF6",
            "gridcolor": "white",
            "gridwidth": 2,
            "linecolor": "white",
            "showbackground": true,
            "ticks": "",
            "zerolinecolor": "white"
           }
          },
          "shapedefaults": {
           "line": {
            "color": "#2a3f5f"
           }
          },
          "ternary": {
           "aaxis": {
            "gridcolor": "white",
            "linecolor": "white",
            "ticks": ""
           },
           "baxis": {
            "gridcolor": "white",
            "linecolor": "white",
            "ticks": ""
           },
           "bgcolor": "#E5ECF6",
           "caxis": {
            "gridcolor": "white",
            "linecolor": "white",
            "ticks": ""
           }
          },
          "title": {
           "x": 0.05
          },
          "xaxis": {
           "automargin": true,
           "gridcolor": "white",
           "linecolor": "white",
           "ticks": "",
           "title": {
            "standoff": 15
           },
           "zerolinecolor": "white",
           "zerolinewidth": 2
          },
          "yaxis": {
           "automargin": true,
           "gridcolor": "white",
           "linecolor": "white",
           "ticks": "",
           "title": {
            "standoff": 15
           },
           "zerolinecolor": "white",
           "zerolinewidth": 2
          }
         }
        },
        "xaxis": {
         "anchor": "y",
         "domain": [
          0,
          1
         ],
         "title": {
          "text": "NOC"
         }
        },
        "yaxis": {
         "anchor": "x",
         "domain": [
          0,
          1
         ],
         "title": {
          "text": "Medals_count"
         }
        }
       }
      }
     },
     "metadata": {},
     "output_type": "display_data"
    }
   ],
   "source": [
    "fig = px.bar(medals_per_country.head(10), x = \"NOC\", y = \"Medals_count\")\n",
    "fig.show()"
   ]
  },
  {
   "cell_type": "code",
   "execution_count": 16,
   "metadata": {},
   "outputs": [
    {
     "data": {
      "text/html": [
       "<div>\n",
       "<style scoped>\n",
       "    .dataframe tbody tr th:only-of-type {\n",
       "        vertical-align: middle;\n",
       "    }\n",
       "\n",
       "    .dataframe tbody tr th {\n",
       "        vertical-align: top;\n",
       "    }\n",
       "\n",
       "    .dataframe thead th {\n",
       "        text-align: right;\n",
       "    }\n",
       "</style>\n",
       "<table border=\"1\" class=\"dataframe\">\n",
       "  <thead>\n",
       "    <tr style=\"text-align: right;\">\n",
       "      <th></th>\n",
       "      <th>NOC</th>\n",
       "      <th>Medals_count</th>\n",
       "    </tr>\n",
       "  </thead>\n",
       "  <tbody>\n",
       "    <tr>\n",
       "      <th>103</th>\n",
       "      <td>USA</td>\n",
       "      <td>2638</td>\n",
       "    </tr>\n",
       "    <tr>\n",
       "      <th>101</th>\n",
       "      <td>URS</td>\n",
       "      <td>1082</td>\n",
       "    </tr>\n",
       "    <tr>\n",
       "      <th>39</th>\n",
       "      <td>GER</td>\n",
       "      <td>745</td>\n",
       "    </tr>\n",
       "    <tr>\n",
       "      <th>36</th>\n",
       "      <td>GBR</td>\n",
       "      <td>678</td>\n",
       "    </tr>\n",
       "    <tr>\n",
       "      <th>51</th>\n",
       "      <td>ITA</td>\n",
       "      <td>575</td>\n",
       "    </tr>\n",
       "    <tr>\n",
       "      <th>34</th>\n",
       "      <td>FRA</td>\n",
       "      <td>501</td>\n",
       "    </tr>\n",
       "    <tr>\n",
       "      <th>89</th>\n",
       "      <td>SWE</td>\n",
       "      <td>479</td>\n",
       "    </tr>\n",
       "    <tr>\n",
       "      <th>14</th>\n",
       "      <td>CAN</td>\n",
       "      <td>463</td>\n",
       "    </tr>\n",
       "    <tr>\n",
       "      <th>44</th>\n",
       "      <td>HUN</td>\n",
       "      <td>432</td>\n",
       "    </tr>\n",
       "    <tr>\n",
       "      <th>37</th>\n",
       "      <td>GDR</td>\n",
       "      <td>397</td>\n",
       "    </tr>\n",
       "  </tbody>\n",
       "</table>\n",
       "</div>"
      ],
      "text/plain": [
       "     NOC  Medals_count\n",
       "103  USA          2638\n",
       "101  URS          1082\n",
       "39   GER           745\n",
       "36   GBR           678\n",
       "51   ITA           575\n",
       "34   FRA           501\n",
       "89   SWE           479\n",
       "14   CAN           463\n",
       "44   HUN           432\n",
       "37   GDR           397"
      ]
     },
     "execution_count": 16,
     "metadata": {},
     "output_type": "execute_result"
    }
   ],
   "source": [
    "golds_per_country = golds.groupby(\"NOC\")[\"Medal\"].count().reset_index(name=\"Medals_count\").sort_values(\"Medals_count\",ascending=False)\n",
    "golds_per_country.head(10)"
   ]
  },
  {
   "cell_type": "code",
   "execution_count": 17,
   "metadata": {},
   "outputs": [
    {
     "data": {
      "application/vnd.plotly.v1+json": {
       "config": {
        "plotlyServerURL": "https://plot.ly"
       },
       "data": [
        {
         "alignmentgroup": "True",
         "hovertemplate": "NOC=%{x}<br>Medals_count=%{y}<extra></extra>",
         "legendgroup": "",
         "marker": {
          "color": "#636efa",
          "pattern": {
           "shape": ""
          }
         },
         "name": "",
         "offsetgroup": "",
         "orientation": "v",
         "showlegend": false,
         "textposition": "auto",
         "type": "bar",
         "x": [
          "USA",
          "URS",
          "GER",
          "GBR",
          "ITA",
          "FRA",
          "SWE",
          "CAN",
          "HUN",
          "GDR"
         ],
         "xaxis": "x",
         "y": [
          2638,
          1082,
          745,
          678,
          575,
          501,
          479,
          463,
          432,
          397
         ],
         "yaxis": "y"
        }
       ],
       "layout": {
        "barmode": "relative",
        "legend": {
         "tracegroupgap": 0
        },
        "margin": {
         "t": 60
        },
        "template": {
         "data": {
          "bar": [
           {
            "error_x": {
             "color": "#2a3f5f"
            },
            "error_y": {
             "color": "#2a3f5f"
            },
            "marker": {
             "line": {
              "color": "#E5ECF6",
              "width": 0.5
             },
             "pattern": {
              "fillmode": "overlay",
              "size": 10,
              "solidity": 0.2
             }
            },
            "type": "bar"
           }
          ],
          "barpolar": [
           {
            "marker": {
             "line": {
              "color": "#E5ECF6",
              "width": 0.5
             },
             "pattern": {
              "fillmode": "overlay",
              "size": 10,
              "solidity": 0.2
             }
            },
            "type": "barpolar"
           }
          ],
          "carpet": [
           {
            "aaxis": {
             "endlinecolor": "#2a3f5f",
             "gridcolor": "white",
             "linecolor": "white",
             "minorgridcolor": "white",
             "startlinecolor": "#2a3f5f"
            },
            "baxis": {
             "endlinecolor": "#2a3f5f",
             "gridcolor": "white",
             "linecolor": "white",
             "minorgridcolor": "white",
             "startlinecolor": "#2a3f5f"
            },
            "type": "carpet"
           }
          ],
          "choropleth": [
           {
            "colorbar": {
             "outlinewidth": 0,
             "ticks": ""
            },
            "type": "choropleth"
           }
          ],
          "contour": [
           {
            "colorbar": {
             "outlinewidth": 0,
             "ticks": ""
            },
            "colorscale": [
             [
              0,
              "#0d0887"
             ],
             [
              0.1111111111111111,
              "#46039f"
             ],
             [
              0.2222222222222222,
              "#7201a8"
             ],
             [
              0.3333333333333333,
              "#9c179e"
             ],
             [
              0.4444444444444444,
              "#bd3786"
             ],
             [
              0.5555555555555556,
              "#d8576b"
             ],
             [
              0.6666666666666666,
              "#ed7953"
             ],
             [
              0.7777777777777778,
              "#fb9f3a"
             ],
             [
              0.8888888888888888,
              "#fdca26"
             ],
             [
              1,
              "#f0f921"
             ]
            ],
            "type": "contour"
           }
          ],
          "contourcarpet": [
           {
            "colorbar": {
             "outlinewidth": 0,
             "ticks": ""
            },
            "type": "contourcarpet"
           }
          ],
          "heatmap": [
           {
            "colorbar": {
             "outlinewidth": 0,
             "ticks": ""
            },
            "colorscale": [
             [
              0,
              "#0d0887"
             ],
             [
              0.1111111111111111,
              "#46039f"
             ],
             [
              0.2222222222222222,
              "#7201a8"
             ],
             [
              0.3333333333333333,
              "#9c179e"
             ],
             [
              0.4444444444444444,
              "#bd3786"
             ],
             [
              0.5555555555555556,
              "#d8576b"
             ],
             [
              0.6666666666666666,
              "#ed7953"
             ],
             [
              0.7777777777777778,
              "#fb9f3a"
             ],
             [
              0.8888888888888888,
              "#fdca26"
             ],
             [
              1,
              "#f0f921"
             ]
            ],
            "type": "heatmap"
           }
          ],
          "heatmapgl": [
           {
            "colorbar": {
             "outlinewidth": 0,
             "ticks": ""
            },
            "colorscale": [
             [
              0,
              "#0d0887"
             ],
             [
              0.1111111111111111,
              "#46039f"
             ],
             [
              0.2222222222222222,
              "#7201a8"
             ],
             [
              0.3333333333333333,
              "#9c179e"
             ],
             [
              0.4444444444444444,
              "#bd3786"
             ],
             [
              0.5555555555555556,
              "#d8576b"
             ],
             [
              0.6666666666666666,
              "#ed7953"
             ],
             [
              0.7777777777777778,
              "#fb9f3a"
             ],
             [
              0.8888888888888888,
              "#fdca26"
             ],
             [
              1,
              "#f0f921"
             ]
            ],
            "type": "heatmapgl"
           }
          ],
          "histogram": [
           {
            "marker": {
             "pattern": {
              "fillmode": "overlay",
              "size": 10,
              "solidity": 0.2
             }
            },
            "type": "histogram"
           }
          ],
          "histogram2d": [
           {
            "colorbar": {
             "outlinewidth": 0,
             "ticks": ""
            },
            "colorscale": [
             [
              0,
              "#0d0887"
             ],
             [
              0.1111111111111111,
              "#46039f"
             ],
             [
              0.2222222222222222,
              "#7201a8"
             ],
             [
              0.3333333333333333,
              "#9c179e"
             ],
             [
              0.4444444444444444,
              "#bd3786"
             ],
             [
              0.5555555555555556,
              "#d8576b"
             ],
             [
              0.6666666666666666,
              "#ed7953"
             ],
             [
              0.7777777777777778,
              "#fb9f3a"
             ],
             [
              0.8888888888888888,
              "#fdca26"
             ],
             [
              1,
              "#f0f921"
             ]
            ],
            "type": "histogram2d"
           }
          ],
          "histogram2dcontour": [
           {
            "colorbar": {
             "outlinewidth": 0,
             "ticks": ""
            },
            "colorscale": [
             [
              0,
              "#0d0887"
             ],
             [
              0.1111111111111111,
              "#46039f"
             ],
             [
              0.2222222222222222,
              "#7201a8"
             ],
             [
              0.3333333333333333,
              "#9c179e"
             ],
             [
              0.4444444444444444,
              "#bd3786"
             ],
             [
              0.5555555555555556,
              "#d8576b"
             ],
             [
              0.6666666666666666,
              "#ed7953"
             ],
             [
              0.7777777777777778,
              "#fb9f3a"
             ],
             [
              0.8888888888888888,
              "#fdca26"
             ],
             [
              1,
              "#f0f921"
             ]
            ],
            "type": "histogram2dcontour"
           }
          ],
          "mesh3d": [
           {
            "colorbar": {
             "outlinewidth": 0,
             "ticks": ""
            },
            "type": "mesh3d"
           }
          ],
          "parcoords": [
           {
            "line": {
             "colorbar": {
              "outlinewidth": 0,
              "ticks": ""
             }
            },
            "type": "parcoords"
           }
          ],
          "pie": [
           {
            "automargin": true,
            "type": "pie"
           }
          ],
          "scatter": [
           {
            "fillpattern": {
             "fillmode": "overlay",
             "size": 10,
             "solidity": 0.2
            },
            "type": "scatter"
           }
          ],
          "scatter3d": [
           {
            "line": {
             "colorbar": {
              "outlinewidth": 0,
              "ticks": ""
             }
            },
            "marker": {
             "colorbar": {
              "outlinewidth": 0,
              "ticks": ""
             }
            },
            "type": "scatter3d"
           }
          ],
          "scattercarpet": [
           {
            "marker": {
             "colorbar": {
              "outlinewidth": 0,
              "ticks": ""
             }
            },
            "type": "scattercarpet"
           }
          ],
          "scattergeo": [
           {
            "marker": {
             "colorbar": {
              "outlinewidth": 0,
              "ticks": ""
             }
            },
            "type": "scattergeo"
           }
          ],
          "scattergl": [
           {
            "marker": {
             "colorbar": {
              "outlinewidth": 0,
              "ticks": ""
             }
            },
            "type": "scattergl"
           }
          ],
          "scattermapbox": [
           {
            "marker": {
             "colorbar": {
              "outlinewidth": 0,
              "ticks": ""
             }
            },
            "type": "scattermapbox"
           }
          ],
          "scatterpolar": [
           {
            "marker": {
             "colorbar": {
              "outlinewidth": 0,
              "ticks": ""
             }
            },
            "type": "scatterpolar"
           }
          ],
          "scatterpolargl": [
           {
            "marker": {
             "colorbar": {
              "outlinewidth": 0,
              "ticks": ""
             }
            },
            "type": "scatterpolargl"
           }
          ],
          "scatterternary": [
           {
            "marker": {
             "colorbar": {
              "outlinewidth": 0,
              "ticks": ""
             }
            },
            "type": "scatterternary"
           }
          ],
          "surface": [
           {
            "colorbar": {
             "outlinewidth": 0,
             "ticks": ""
            },
            "colorscale": [
             [
              0,
              "#0d0887"
             ],
             [
              0.1111111111111111,
              "#46039f"
             ],
             [
              0.2222222222222222,
              "#7201a8"
             ],
             [
              0.3333333333333333,
              "#9c179e"
             ],
             [
              0.4444444444444444,
              "#bd3786"
             ],
             [
              0.5555555555555556,
              "#d8576b"
             ],
             [
              0.6666666666666666,
              "#ed7953"
             ],
             [
              0.7777777777777778,
              "#fb9f3a"
             ],
             [
              0.8888888888888888,
              "#fdca26"
             ],
             [
              1,
              "#f0f921"
             ]
            ],
            "type": "surface"
           }
          ],
          "table": [
           {
            "cells": {
             "fill": {
              "color": "#EBF0F8"
             },
             "line": {
              "color": "white"
             }
            },
            "header": {
             "fill": {
              "color": "#C8D4E3"
             },
             "line": {
              "color": "white"
             }
            },
            "type": "table"
           }
          ]
         },
         "layout": {
          "annotationdefaults": {
           "arrowcolor": "#2a3f5f",
           "arrowhead": 0,
           "arrowwidth": 1
          },
          "autotypenumbers": "strict",
          "coloraxis": {
           "colorbar": {
            "outlinewidth": 0,
            "ticks": ""
           }
          },
          "colorscale": {
           "diverging": [
            [
             0,
             "#8e0152"
            ],
            [
             0.1,
             "#c51b7d"
            ],
            [
             0.2,
             "#de77ae"
            ],
            [
             0.3,
             "#f1b6da"
            ],
            [
             0.4,
             "#fde0ef"
            ],
            [
             0.5,
             "#f7f7f7"
            ],
            [
             0.6,
             "#e6f5d0"
            ],
            [
             0.7,
             "#b8e186"
            ],
            [
             0.8,
             "#7fbc41"
            ],
            [
             0.9,
             "#4d9221"
            ],
            [
             1,
             "#276419"
            ]
           ],
           "sequential": [
            [
             0,
             "#0d0887"
            ],
            [
             0.1111111111111111,
             "#46039f"
            ],
            [
             0.2222222222222222,
             "#7201a8"
            ],
            [
             0.3333333333333333,
             "#9c179e"
            ],
            [
             0.4444444444444444,
             "#bd3786"
            ],
            [
             0.5555555555555556,
             "#d8576b"
            ],
            [
             0.6666666666666666,
             "#ed7953"
            ],
            [
             0.7777777777777778,
             "#fb9f3a"
            ],
            [
             0.8888888888888888,
             "#fdca26"
            ],
            [
             1,
             "#f0f921"
            ]
           ],
           "sequentialminus": [
            [
             0,
             "#0d0887"
            ],
            [
             0.1111111111111111,
             "#46039f"
            ],
            [
             0.2222222222222222,
             "#7201a8"
            ],
            [
             0.3333333333333333,
             "#9c179e"
            ],
            [
             0.4444444444444444,
             "#bd3786"
            ],
            [
             0.5555555555555556,
             "#d8576b"
            ],
            [
             0.6666666666666666,
             "#ed7953"
            ],
            [
             0.7777777777777778,
             "#fb9f3a"
            ],
            [
             0.8888888888888888,
             "#fdca26"
            ],
            [
             1,
             "#f0f921"
            ]
           ]
          },
          "colorway": [
           "#636efa",
           "#EF553B",
           "#00cc96",
           "#ab63fa",
           "#FFA15A",
           "#19d3f3",
           "#FF6692",
           "#B6E880",
           "#FF97FF",
           "#FECB52"
          ],
          "font": {
           "color": "#2a3f5f"
          },
          "geo": {
           "bgcolor": "white",
           "lakecolor": "white",
           "landcolor": "#E5ECF6",
           "showlakes": true,
           "showland": true,
           "subunitcolor": "white"
          },
          "hoverlabel": {
           "align": "left"
          },
          "hovermode": "closest",
          "mapbox": {
           "style": "light"
          },
          "paper_bgcolor": "white",
          "plot_bgcolor": "#E5ECF6",
          "polar": {
           "angularaxis": {
            "gridcolor": "white",
            "linecolor": "white",
            "ticks": ""
           },
           "bgcolor": "#E5ECF6",
           "radialaxis": {
            "gridcolor": "white",
            "linecolor": "white",
            "ticks": ""
           }
          },
          "scene": {
           "xaxis": {
            "backgroundcolor": "#E5ECF6",
            "gridcolor": "white",
            "gridwidth": 2,
            "linecolor": "white",
            "showbackground": true,
            "ticks": "",
            "zerolinecolor": "white"
           },
           "yaxis": {
            "backgroundcolor": "#E5ECF6",
            "gridcolor": "white",
            "gridwidth": 2,
            "linecolor": "white",
            "showbackground": true,
            "ticks": "",
            "zerolinecolor": "white"
           },
           "zaxis": {
            "backgroundcolor": "#E5ECF6",
            "gridcolor": "white",
            "gridwidth": 2,
            "linecolor": "white",
            "showbackground": true,
            "ticks": "",
            "zerolinecolor": "white"
           }
          },
          "shapedefaults": {
           "line": {
            "color": "#2a3f5f"
           }
          },
          "ternary": {
           "aaxis": {
            "gridcolor": "white",
            "linecolor": "white",
            "ticks": ""
           },
           "baxis": {
            "gridcolor": "white",
            "linecolor": "white",
            "ticks": ""
           },
           "bgcolor": "#E5ECF6",
           "caxis": {
            "gridcolor": "white",
            "linecolor": "white",
            "ticks": ""
           }
          },
          "title": {
           "x": 0.05
          },
          "xaxis": {
           "automargin": true,
           "gridcolor": "white",
           "linecolor": "white",
           "ticks": "",
           "title": {
            "standoff": 15
           },
           "zerolinecolor": "white",
           "zerolinewidth": 2
          },
          "yaxis": {
           "automargin": true,
           "gridcolor": "white",
           "linecolor": "white",
           "ticks": "",
           "title": {
            "standoff": 15
           },
           "zerolinecolor": "white",
           "zerolinewidth": 2
          }
         }
        },
        "xaxis": {
         "anchor": "y",
         "domain": [
          0,
          1
         ],
         "title": {
          "text": "NOC"
         }
        },
        "yaxis": {
         "anchor": "x",
         "domain": [
          0,
          1
         ],
         "title": {
          "text": "Medals_count"
         }
        }
       }
      }
     },
     "metadata": {},
     "output_type": "display_data"
    }
   ],
   "source": [
    "fig = px.bar(golds_per_country.head(10), x = \"NOC\", y = \"Medals_count\")\n",
    "fig.show()"
   ]
  },
  {
   "cell_type": "code",
   "execution_count": 29,
   "metadata": {},
   "outputs": [],
   "source": [
    "sex = df[\"Sex\"].value_counts().to_frame().reset_index(names=\"Gender\")\n",
    "sex.rename(columns = {\"Sex\":\"Amount\"}, inplace=True)"
   ]
  },
  {
   "cell_type": "code",
   "execution_count": 31,
   "metadata": {},
   "outputs": [
    {
     "data": {
      "application/vnd.plotly.v1+json": {
       "config": {
        "plotlyServerURL": "https://plot.ly"
       },
       "data": [
        {
         "alignmentgroup": "True",
         "hovertemplate": "Gender=%{x}<br>Amount=%{y}<extra></extra>",
         "legendgroup": "",
         "marker": {
          "color": "#636efa",
          "pattern": {
           "shape": ""
          }
         },
         "name": "",
         "offsetgroup": "",
         "orientation": "v",
         "showlegend": false,
         "textposition": "auto",
         "type": "bar",
         "x": [
          "M",
          "F"
         ],
         "xaxis": "x",
         "y": [
          196594,
          74522
         ],
         "yaxis": "y"
        }
       ],
       "layout": {
        "barmode": "relative",
        "legend": {
         "tracegroupgap": 0
        },
        "margin": {
         "t": 60
        },
        "template": {
         "data": {
          "bar": [
           {
            "error_x": {
             "color": "#2a3f5f"
            },
            "error_y": {
             "color": "#2a3f5f"
            },
            "marker": {
             "line": {
              "color": "#E5ECF6",
              "width": 0.5
             },
             "pattern": {
              "fillmode": "overlay",
              "size": 10,
              "solidity": 0.2
             }
            },
            "type": "bar"
           }
          ],
          "barpolar": [
           {
            "marker": {
             "line": {
              "color": "#E5ECF6",
              "width": 0.5
             },
             "pattern": {
              "fillmode": "overlay",
              "size": 10,
              "solidity": 0.2
             }
            },
            "type": "barpolar"
           }
          ],
          "carpet": [
           {
            "aaxis": {
             "endlinecolor": "#2a3f5f",
             "gridcolor": "white",
             "linecolor": "white",
             "minorgridcolor": "white",
             "startlinecolor": "#2a3f5f"
            },
            "baxis": {
             "endlinecolor": "#2a3f5f",
             "gridcolor": "white",
             "linecolor": "white",
             "minorgridcolor": "white",
             "startlinecolor": "#2a3f5f"
            },
            "type": "carpet"
           }
          ],
          "choropleth": [
           {
            "colorbar": {
             "outlinewidth": 0,
             "ticks": ""
            },
            "type": "choropleth"
           }
          ],
          "contour": [
           {
            "colorbar": {
             "outlinewidth": 0,
             "ticks": ""
            },
            "colorscale": [
             [
              0,
              "#0d0887"
             ],
             [
              0.1111111111111111,
              "#46039f"
             ],
             [
              0.2222222222222222,
              "#7201a8"
             ],
             [
              0.3333333333333333,
              "#9c179e"
             ],
             [
              0.4444444444444444,
              "#bd3786"
             ],
             [
              0.5555555555555556,
              "#d8576b"
             ],
             [
              0.6666666666666666,
              "#ed7953"
             ],
             [
              0.7777777777777778,
              "#fb9f3a"
             ],
             [
              0.8888888888888888,
              "#fdca26"
             ],
             [
              1,
              "#f0f921"
             ]
            ],
            "type": "contour"
           }
          ],
          "contourcarpet": [
           {
            "colorbar": {
             "outlinewidth": 0,
             "ticks": ""
            },
            "type": "contourcarpet"
           }
          ],
          "heatmap": [
           {
            "colorbar": {
             "outlinewidth": 0,
             "ticks": ""
            },
            "colorscale": [
             [
              0,
              "#0d0887"
             ],
             [
              0.1111111111111111,
              "#46039f"
             ],
             [
              0.2222222222222222,
              "#7201a8"
             ],
             [
              0.3333333333333333,
              "#9c179e"
             ],
             [
              0.4444444444444444,
              "#bd3786"
             ],
             [
              0.5555555555555556,
              "#d8576b"
             ],
             [
              0.6666666666666666,
              "#ed7953"
             ],
             [
              0.7777777777777778,
              "#fb9f3a"
             ],
             [
              0.8888888888888888,
              "#fdca26"
             ],
             [
              1,
              "#f0f921"
             ]
            ],
            "type": "heatmap"
           }
          ],
          "heatmapgl": [
           {
            "colorbar": {
             "outlinewidth": 0,
             "ticks": ""
            },
            "colorscale": [
             [
              0,
              "#0d0887"
             ],
             [
              0.1111111111111111,
              "#46039f"
             ],
             [
              0.2222222222222222,
              "#7201a8"
             ],
             [
              0.3333333333333333,
              "#9c179e"
             ],
             [
              0.4444444444444444,
              "#bd3786"
             ],
             [
              0.5555555555555556,
              "#d8576b"
             ],
             [
              0.6666666666666666,
              "#ed7953"
             ],
             [
              0.7777777777777778,
              "#fb9f3a"
             ],
             [
              0.8888888888888888,
              "#fdca26"
             ],
             [
              1,
              "#f0f921"
             ]
            ],
            "type": "heatmapgl"
           }
          ],
          "histogram": [
           {
            "marker": {
             "pattern": {
              "fillmode": "overlay",
              "size": 10,
              "solidity": 0.2
             }
            },
            "type": "histogram"
           }
          ],
          "histogram2d": [
           {
            "colorbar": {
             "outlinewidth": 0,
             "ticks": ""
            },
            "colorscale": [
             [
              0,
              "#0d0887"
             ],
             [
              0.1111111111111111,
              "#46039f"
             ],
             [
              0.2222222222222222,
              "#7201a8"
             ],
             [
              0.3333333333333333,
              "#9c179e"
             ],
             [
              0.4444444444444444,
              "#bd3786"
             ],
             [
              0.5555555555555556,
              "#d8576b"
             ],
             [
              0.6666666666666666,
              "#ed7953"
             ],
             [
              0.7777777777777778,
              "#fb9f3a"
             ],
             [
              0.8888888888888888,
              "#fdca26"
             ],
             [
              1,
              "#f0f921"
             ]
            ],
            "type": "histogram2d"
           }
          ],
          "histogram2dcontour": [
           {
            "colorbar": {
             "outlinewidth": 0,
             "ticks": ""
            },
            "colorscale": [
             [
              0,
              "#0d0887"
             ],
             [
              0.1111111111111111,
              "#46039f"
             ],
             [
              0.2222222222222222,
              "#7201a8"
             ],
             [
              0.3333333333333333,
              "#9c179e"
             ],
             [
              0.4444444444444444,
              "#bd3786"
             ],
             [
              0.5555555555555556,
              "#d8576b"
             ],
             [
              0.6666666666666666,
              "#ed7953"
             ],
             [
              0.7777777777777778,
              "#fb9f3a"
             ],
             [
              0.8888888888888888,
              "#fdca26"
             ],
             [
              1,
              "#f0f921"
             ]
            ],
            "type": "histogram2dcontour"
           }
          ],
          "mesh3d": [
           {
            "colorbar": {
             "outlinewidth": 0,
             "ticks": ""
            },
            "type": "mesh3d"
           }
          ],
          "parcoords": [
           {
            "line": {
             "colorbar": {
              "outlinewidth": 0,
              "ticks": ""
             }
            },
            "type": "parcoords"
           }
          ],
          "pie": [
           {
            "automargin": true,
            "type": "pie"
           }
          ],
          "scatter": [
           {
            "fillpattern": {
             "fillmode": "overlay",
             "size": 10,
             "solidity": 0.2
            },
            "type": "scatter"
           }
          ],
          "scatter3d": [
           {
            "line": {
             "colorbar": {
              "outlinewidth": 0,
              "ticks": ""
             }
            },
            "marker": {
             "colorbar": {
              "outlinewidth": 0,
              "ticks": ""
             }
            },
            "type": "scatter3d"
           }
          ],
          "scattercarpet": [
           {
            "marker": {
             "colorbar": {
              "outlinewidth": 0,
              "ticks": ""
             }
            },
            "type": "scattercarpet"
           }
          ],
          "scattergeo": [
           {
            "marker": {
             "colorbar": {
              "outlinewidth": 0,
              "ticks": ""
             }
            },
            "type": "scattergeo"
           }
          ],
          "scattergl": [
           {
            "marker": {
             "colorbar": {
              "outlinewidth": 0,
              "ticks": ""
             }
            },
            "type": "scattergl"
           }
          ],
          "scattermapbox": [
           {
            "marker": {
             "colorbar": {
              "outlinewidth": 0,
              "ticks": ""
             }
            },
            "type": "scattermapbox"
           }
          ],
          "scatterpolar": [
           {
            "marker": {
             "colorbar": {
              "outlinewidth": 0,
              "ticks": ""
             }
            },
            "type": "scatterpolar"
           }
          ],
          "scatterpolargl": [
           {
            "marker": {
             "colorbar": {
              "outlinewidth": 0,
              "ticks": ""
             }
            },
            "type": "scatterpolargl"
           }
          ],
          "scatterternary": [
           {
            "marker": {
             "colorbar": {
              "outlinewidth": 0,
              "ticks": ""
             }
            },
            "type": "scatterternary"
           }
          ],
          "surface": [
           {
            "colorbar": {
             "outlinewidth": 0,
             "ticks": ""
            },
            "colorscale": [
             [
              0,
              "#0d0887"
             ],
             [
              0.1111111111111111,
              "#46039f"
             ],
             [
              0.2222222222222222,
              "#7201a8"
             ],
             [
              0.3333333333333333,
              "#9c179e"
             ],
             [
              0.4444444444444444,
              "#bd3786"
             ],
             [
              0.5555555555555556,
              "#d8576b"
             ],
             [
              0.6666666666666666,
              "#ed7953"
             ],
             [
              0.7777777777777778,
              "#fb9f3a"
             ],
             [
              0.8888888888888888,
              "#fdca26"
             ],
             [
              1,
              "#f0f921"
             ]
            ],
            "type": "surface"
           }
          ],
          "table": [
           {
            "cells": {
             "fill": {
              "color": "#EBF0F8"
             },
             "line": {
              "color": "white"
             }
            },
            "header": {
             "fill": {
              "color": "#C8D4E3"
             },
             "line": {
              "color": "white"
             }
            },
            "type": "table"
           }
          ]
         },
         "layout": {
          "annotationdefaults": {
           "arrowcolor": "#2a3f5f",
           "arrowhead": 0,
           "arrowwidth": 1
          },
          "autotypenumbers": "strict",
          "coloraxis": {
           "colorbar": {
            "outlinewidth": 0,
            "ticks": ""
           }
          },
          "colorscale": {
           "diverging": [
            [
             0,
             "#8e0152"
            ],
            [
             0.1,
             "#c51b7d"
            ],
            [
             0.2,
             "#de77ae"
            ],
            [
             0.3,
             "#f1b6da"
            ],
            [
             0.4,
             "#fde0ef"
            ],
            [
             0.5,
             "#f7f7f7"
            ],
            [
             0.6,
             "#e6f5d0"
            ],
            [
             0.7,
             "#b8e186"
            ],
            [
             0.8,
             "#7fbc41"
            ],
            [
             0.9,
             "#4d9221"
            ],
            [
             1,
             "#276419"
            ]
           ],
           "sequential": [
            [
             0,
             "#0d0887"
            ],
            [
             0.1111111111111111,
             "#46039f"
            ],
            [
             0.2222222222222222,
             "#7201a8"
            ],
            [
             0.3333333333333333,
             "#9c179e"
            ],
            [
             0.4444444444444444,
             "#bd3786"
            ],
            [
             0.5555555555555556,
             "#d8576b"
            ],
            [
             0.6666666666666666,
             "#ed7953"
            ],
            [
             0.7777777777777778,
             "#fb9f3a"
            ],
            [
             0.8888888888888888,
             "#fdca26"
            ],
            [
             1,
             "#f0f921"
            ]
           ],
           "sequentialminus": [
            [
             0,
             "#0d0887"
            ],
            [
             0.1111111111111111,
             "#46039f"
            ],
            [
             0.2222222222222222,
             "#7201a8"
            ],
            [
             0.3333333333333333,
             "#9c179e"
            ],
            [
             0.4444444444444444,
             "#bd3786"
            ],
            [
             0.5555555555555556,
             "#d8576b"
            ],
            [
             0.6666666666666666,
             "#ed7953"
            ],
            [
             0.7777777777777778,
             "#fb9f3a"
            ],
            [
             0.8888888888888888,
             "#fdca26"
            ],
            [
             1,
             "#f0f921"
            ]
           ]
          },
          "colorway": [
           "#636efa",
           "#EF553B",
           "#00cc96",
           "#ab63fa",
           "#FFA15A",
           "#19d3f3",
           "#FF6692",
           "#B6E880",
           "#FF97FF",
           "#FECB52"
          ],
          "font": {
           "color": "#2a3f5f"
          },
          "geo": {
           "bgcolor": "white",
           "lakecolor": "white",
           "landcolor": "#E5ECF6",
           "showlakes": true,
           "showland": true,
           "subunitcolor": "white"
          },
          "hoverlabel": {
           "align": "left"
          },
          "hovermode": "closest",
          "mapbox": {
           "style": "light"
          },
          "paper_bgcolor": "white",
          "plot_bgcolor": "#E5ECF6",
          "polar": {
           "angularaxis": {
            "gridcolor": "white",
            "linecolor": "white",
            "ticks": ""
           },
           "bgcolor": "#E5ECF6",
           "radialaxis": {
            "gridcolor": "white",
            "linecolor": "white",
            "ticks": ""
           }
          },
          "scene": {
           "xaxis": {
            "backgroundcolor": "#E5ECF6",
            "gridcolor": "white",
            "gridwidth": 2,
            "linecolor": "white",
            "showbackground": true,
            "ticks": "",
            "zerolinecolor": "white"
           },
           "yaxis": {
            "backgroundcolor": "#E5ECF6",
            "gridcolor": "white",
            "gridwidth": 2,
            "linecolor": "white",
            "showbackground": true,
            "ticks": "",
            "zerolinecolor": "white"
           },
           "zaxis": {
            "backgroundcolor": "#E5ECF6",
            "gridcolor": "white",
            "gridwidth": 2,
            "linecolor": "white",
            "showbackground": true,
            "ticks": "",
            "zerolinecolor": "white"
           }
          },
          "shapedefaults": {
           "line": {
            "color": "#2a3f5f"
           }
          },
          "ternary": {
           "aaxis": {
            "gridcolor": "white",
            "linecolor": "white",
            "ticks": ""
           },
           "baxis": {
            "gridcolor": "white",
            "linecolor": "white",
            "ticks": ""
           },
           "bgcolor": "#E5ECF6",
           "caxis": {
            "gridcolor": "white",
            "linecolor": "white",
            "ticks": ""
           }
          },
          "title": {
           "x": 0.05
          },
          "xaxis": {
           "automargin": true,
           "gridcolor": "white",
           "linecolor": "white",
           "ticks": "",
           "title": {
            "standoff": 15
           },
           "zerolinecolor": "white",
           "zerolinewidth": 2
          },
          "yaxis": {
           "automargin": true,
           "gridcolor": "white",
           "linecolor": "white",
           "ticks": "",
           "title": {
            "standoff": 15
           },
           "zerolinecolor": "white",
           "zerolinewidth": 2
          }
         }
        },
        "xaxis": {
         "anchor": "y",
         "domain": [
          0,
          1
         ],
         "title": {
          "text": "Gender"
         }
        },
        "yaxis": {
         "anchor": "x",
         "domain": [
          0,
          1
         ],
         "title": {
          "text": "Amount"
         }
        }
       }
      }
     },
     "metadata": {},
     "output_type": "display_data"
    }
   ],
   "source": [
    "fig = px.bar(sex, x=\"Gender\", y=\"Amount\")\n",
    "fig.show()"
   ]
  },
  {
   "cell_type": "code",
   "execution_count": 34,
   "metadata": {},
   "outputs": [
    {
     "data": {
      "text/html": [
       "<div>\n",
       "<style scoped>\n",
       "    .dataframe tbody tr th:only-of-type {\n",
       "        vertical-align: middle;\n",
       "    }\n",
       "\n",
       "    .dataframe tbody tr th {\n",
       "        vertical-align: top;\n",
       "    }\n",
       "\n",
       "    .dataframe thead th {\n",
       "        text-align: right;\n",
       "    }\n",
       "</style>\n",
       "<table border=\"1\" class=\"dataframe\">\n",
       "  <thead>\n",
       "    <tr style=\"text-align: right;\">\n",
       "      <th></th>\n",
       "      <th>ID</th>\n",
       "      <th>Name</th>\n",
       "      <th>Sex</th>\n",
       "      <th>Age</th>\n",
       "      <th>Height</th>\n",
       "      <th>Weight</th>\n",
       "      <th>Team</th>\n",
       "      <th>NOC</th>\n",
       "      <th>Games</th>\n",
       "      <th>Year</th>\n",
       "      <th>Season</th>\n",
       "      <th>City</th>\n",
       "      <th>Sport</th>\n",
       "      <th>Event</th>\n",
       "      <th>Medal</th>\n",
       "    </tr>\n",
       "  </thead>\n",
       "  <tbody>\n",
       "    <tr>\n",
       "      <th>59</th>\n",
       "      <td>20</td>\n",
       "      <td>Kjetil Andr Aamodt</td>\n",
       "      <td>M</td>\n",
       "      <td>20.0</td>\n",
       "      <td>176.0</td>\n",
       "      <td>85.0</td>\n",
       "      <td>Norway</td>\n",
       "      <td>NOR</td>\n",
       "      <td>1992 Winter</td>\n",
       "      <td>1992</td>\n",
       "      <td>Winter</td>\n",
       "      <td>Albertville</td>\n",
       "      <td>Alpine Skiing</td>\n",
       "      <td>Alpine Skiing Men's Downhill</td>\n",
       "      <td>NaN</td>\n",
       "    </tr>\n",
       "    <tr>\n",
       "      <th>60</th>\n",
       "      <td>20</td>\n",
       "      <td>Kjetil Andr Aamodt</td>\n",
       "      <td>M</td>\n",
       "      <td>20.0</td>\n",
       "      <td>176.0</td>\n",
       "      <td>85.0</td>\n",
       "      <td>Norway</td>\n",
       "      <td>NOR</td>\n",
       "      <td>1992 Winter</td>\n",
       "      <td>1992</td>\n",
       "      <td>Winter</td>\n",
       "      <td>Albertville</td>\n",
       "      <td>Alpine Skiing</td>\n",
       "      <td>Alpine Skiing Men's Super G</td>\n",
       "      <td>Gold</td>\n",
       "    </tr>\n",
       "    <tr>\n",
       "      <th>61</th>\n",
       "      <td>20</td>\n",
       "      <td>Kjetil Andr Aamodt</td>\n",
       "      <td>M</td>\n",
       "      <td>20.0</td>\n",
       "      <td>176.0</td>\n",
       "      <td>85.0</td>\n",
       "      <td>Norway</td>\n",
       "      <td>NOR</td>\n",
       "      <td>1992 Winter</td>\n",
       "      <td>1992</td>\n",
       "      <td>Winter</td>\n",
       "      <td>Albertville</td>\n",
       "      <td>Alpine Skiing</td>\n",
       "      <td>Alpine Skiing Men's Giant Slalom</td>\n",
       "      <td>Bronze</td>\n",
       "    </tr>\n",
       "    <tr>\n",
       "      <th>62</th>\n",
       "      <td>20</td>\n",
       "      <td>Kjetil Andr Aamodt</td>\n",
       "      <td>M</td>\n",
       "      <td>20.0</td>\n",
       "      <td>176.0</td>\n",
       "      <td>85.0</td>\n",
       "      <td>Norway</td>\n",
       "      <td>NOR</td>\n",
       "      <td>1992 Winter</td>\n",
       "      <td>1992</td>\n",
       "      <td>Winter</td>\n",
       "      <td>Albertville</td>\n",
       "      <td>Alpine Skiing</td>\n",
       "      <td>Alpine Skiing Men's Slalom</td>\n",
       "      <td>NaN</td>\n",
       "    </tr>\n",
       "    <tr>\n",
       "      <th>63</th>\n",
       "      <td>20</td>\n",
       "      <td>Kjetil Andr Aamodt</td>\n",
       "      <td>M</td>\n",
       "      <td>22.0</td>\n",
       "      <td>176.0</td>\n",
       "      <td>85.0</td>\n",
       "      <td>Norway</td>\n",
       "      <td>NOR</td>\n",
       "      <td>1994 Winter</td>\n",
       "      <td>1994</td>\n",
       "      <td>Winter</td>\n",
       "      <td>Lillehammer</td>\n",
       "      <td>Alpine Skiing</td>\n",
       "      <td>Alpine Skiing Men's Downhill</td>\n",
       "      <td>Silver</td>\n",
       "    </tr>\n",
       "    <tr>\n",
       "      <th>...</th>\n",
       "      <td>...</td>\n",
       "      <td>...</td>\n",
       "      <td>...</td>\n",
       "      <td>...</td>\n",
       "      <td>...</td>\n",
       "      <td>...</td>\n",
       "      <td>...</td>\n",
       "      <td>...</td>\n",
       "      <td>...</td>\n",
       "      <td>...</td>\n",
       "      <td>...</td>\n",
       "      <td>...</td>\n",
       "      <td>...</td>\n",
       "      <td>...</td>\n",
       "      <td>...</td>\n",
       "    </tr>\n",
       "    <tr>\n",
       "      <th>270398</th>\n",
       "      <td>135259</td>\n",
       "      <td>Schirin Zorriasateiny</td>\n",
       "      <td>F</td>\n",
       "      <td>20.0</td>\n",
       "      <td>167.0</td>\n",
       "      <td>55.0</td>\n",
       "      <td>Norway</td>\n",
       "      <td>NOR</td>\n",
       "      <td>1984 Summer</td>\n",
       "      <td>1984</td>\n",
       "      <td>Summer</td>\n",
       "      <td>Los Angeles</td>\n",
       "      <td>Rhythmic Gymnastics</td>\n",
       "      <td>Rhythmic Gymnastics Women's Individual</td>\n",
       "      <td>NaN</td>\n",
       "    </tr>\n",
       "    <tr>\n",
       "      <th>270674</th>\n",
       "      <td>135365</td>\n",
       "      <td>Mats Andr Zuccarello-Aasen</td>\n",
       "      <td>M</td>\n",
       "      <td>22.0</td>\n",
       "      <td>171.0</td>\n",
       "      <td>74.0</td>\n",
       "      <td>Norway</td>\n",
       "      <td>NOR</td>\n",
       "      <td>2010 Winter</td>\n",
       "      <td>2010</td>\n",
       "      <td>Winter</td>\n",
       "      <td>Vancouver</td>\n",
       "      <td>Ice Hockey</td>\n",
       "      <td>Ice Hockey Men's Ice Hockey</td>\n",
       "      <td>NaN</td>\n",
       "    </tr>\n",
       "    <tr>\n",
       "      <th>270675</th>\n",
       "      <td>135365</td>\n",
       "      <td>Mats Andr Zuccarello-Aasen</td>\n",
       "      <td>M</td>\n",
       "      <td>26.0</td>\n",
       "      <td>171.0</td>\n",
       "      <td>74.0</td>\n",
       "      <td>Norway</td>\n",
       "      <td>NOR</td>\n",
       "      <td>2014 Winter</td>\n",
       "      <td>2014</td>\n",
       "      <td>Winter</td>\n",
       "      <td>Sochi</td>\n",
       "      <td>Ice Hockey</td>\n",
       "      <td>Ice Hockey Men's Ice Hockey</td>\n",
       "      <td>NaN</td>\n",
       "    </tr>\n",
       "    <tr>\n",
       "      <th>271017</th>\n",
       "      <td>135524</td>\n",
       "      <td>Nicolaus \"Nic\" Zwetnow</td>\n",
       "      <td>M</td>\n",
       "      <td>31.0</td>\n",
       "      <td>181.0</td>\n",
       "      <td>70.0</td>\n",
       "      <td>Norway</td>\n",
       "      <td>NOR</td>\n",
       "      <td>1960 Summer</td>\n",
       "      <td>1960</td>\n",
       "      <td>Summer</td>\n",
       "      <td>Roma</td>\n",
       "      <td>Shooting</td>\n",
       "      <td>Shooting Men's Rapid-Fire Pistol, 25 metres</td>\n",
       "      <td>NaN</td>\n",
       "    </tr>\n",
       "    <tr>\n",
       "      <th>271018</th>\n",
       "      <td>135524</td>\n",
       "      <td>Nicolaus \"Nic\" Zwetnow</td>\n",
       "      <td>M</td>\n",
       "      <td>35.0</td>\n",
       "      <td>181.0</td>\n",
       "      <td>70.0</td>\n",
       "      <td>Norway</td>\n",
       "      <td>NOR</td>\n",
       "      <td>1964 Summer</td>\n",
       "      <td>1964</td>\n",
       "      <td>Summer</td>\n",
       "      <td>Tokyo</td>\n",
       "      <td>Shooting</td>\n",
       "      <td>Shooting Men's Rapid-Fire Pistol, 25 metres</td>\n",
       "      <td>NaN</td>\n",
       "    </tr>\n",
       "  </tbody>\n",
       "</table>\n",
       "<p>4960 rows × 15 columns</p>\n",
       "</div>"
      ],
      "text/plain": [
       "            ID                        Name Sex   Age  Height  Weight    Team  \\\n",
       "59          20          Kjetil Andr Aamodt   M  20.0   176.0    85.0  Norway   \n",
       "60          20          Kjetil Andr Aamodt   M  20.0   176.0    85.0  Norway   \n",
       "61          20          Kjetil Andr Aamodt   M  20.0   176.0    85.0  Norway   \n",
       "62          20          Kjetil Andr Aamodt   M  20.0   176.0    85.0  Norway   \n",
       "63          20          Kjetil Andr Aamodt   M  22.0   176.0    85.0  Norway   \n",
       "...        ...                         ...  ..   ...     ...     ...     ...   \n",
       "270398  135259       Schirin Zorriasateiny   F  20.0   167.0    55.0  Norway   \n",
       "270674  135365  Mats Andr Zuccarello-Aasen   M  22.0   171.0    74.0  Norway   \n",
       "270675  135365  Mats Andr Zuccarello-Aasen   M  26.0   171.0    74.0  Norway   \n",
       "271017  135524      Nicolaus \"Nic\" Zwetnow   M  31.0   181.0    70.0  Norway   \n",
       "271018  135524      Nicolaus \"Nic\" Zwetnow   M  35.0   181.0    70.0  Norway   \n",
       "\n",
       "        NOC        Games  Year  Season         City                Sport  \\\n",
       "59      NOR  1992 Winter  1992  Winter  Albertville        Alpine Skiing   \n",
       "60      NOR  1992 Winter  1992  Winter  Albertville        Alpine Skiing   \n",
       "61      NOR  1992 Winter  1992  Winter  Albertville        Alpine Skiing   \n",
       "62      NOR  1992 Winter  1992  Winter  Albertville        Alpine Skiing   \n",
       "63      NOR  1994 Winter  1994  Winter  Lillehammer        Alpine Skiing   \n",
       "...     ...          ...   ...     ...          ...                  ...   \n",
       "270398  NOR  1984 Summer  1984  Summer  Los Angeles  Rhythmic Gymnastics   \n",
       "270674  NOR  2010 Winter  2010  Winter    Vancouver           Ice Hockey   \n",
       "270675  NOR  2014 Winter  2014  Winter        Sochi           Ice Hockey   \n",
       "271017  NOR  1960 Summer  1960  Summer         Roma             Shooting   \n",
       "271018  NOR  1964 Summer  1964  Summer        Tokyo             Shooting   \n",
       "\n",
       "                                              Event   Medal  \n",
       "59                     Alpine Skiing Men's Downhill     NaN  \n",
       "60                      Alpine Skiing Men's Super G    Gold  \n",
       "61                 Alpine Skiing Men's Giant Slalom  Bronze  \n",
       "62                       Alpine Skiing Men's Slalom     NaN  \n",
       "63                     Alpine Skiing Men's Downhill  Silver  \n",
       "...                                             ...     ...  \n",
       "270398       Rhythmic Gymnastics Women's Individual     NaN  \n",
       "270674                  Ice Hockey Men's Ice Hockey     NaN  \n",
       "270675                  Ice Hockey Men's Ice Hockey     NaN  \n",
       "271017  Shooting Men's Rapid-Fire Pistol, 25 metres     NaN  \n",
       "271018  Shooting Men's Rapid-Fire Pistol, 25 metres     NaN  \n",
       "\n",
       "[4960 rows x 15 columns]"
      ]
     },
     "execution_count": 34,
     "metadata": {},
     "output_type": "execute_result"
    }
   ],
   "source": [
    "Norway = df[df[\"NOC\"] == \"NOR\"]\n",
    "Norway"
   ]
  },
  {
   "cell_type": "code",
   "execution_count": 36,
   "metadata": {},
   "outputs": [
    {
     "data": {
      "text/plain": [
       "array([\"Alpine Skiing Men's Downhill\", \"Alpine Skiing Men's Super G\",\n",
       "       \"Alpine Skiing Men's Giant Slalom\", \"Alpine Skiing Men's Slalom\",\n",
       "       \"Alpine Skiing Men's Combined\", \"Handball Women's Handball\",\n",
       "       \"Wrestling Men's Light-Heavyweight, Greco-Roman\",\n",
       "       \"Speed Skating Men's 500 metres\",\n",
       "       \"Speed Skating Men's 1,500 metres\",\n",
       "       \"Gymnastics Men's Team All-Around, Free System\",\n",
       "       \"Luge Women's Singles\", 'Sailing Mixed Three Person Keelboat',\n",
       "       \"Athletics Men's High Jump\", \"Bobsleigh Men's Four\",\n",
       "       \"Football Women's Football\", \"Fencing Men's Foil, Individual\",\n",
       "       \"Fencing Men's epee, Individual\", \"Fencing Men's epee, Team\",\n",
       "       \"Speed Skating Men's 5,000 metres\",\n",
       "       \"Speed Skating Men's 10,000 metres\", \"Football Men's Football\",\n",
       "       'Sailing Mixed 8 metres',\n",
       "       'Equestrianism Mixed Jumping, Individual',\n",
       "       \"Shooting Men's Small-Bore Rifle, Prone, 50 metres\",\n",
       "       \"Shooting Men's Rapid-Fire Pistol, 25 metres\",\n",
       "       \"Shooting Men's Trap\", \"Athletics Men's 4 x 100 metres Relay\",\n",
       "       \"Athletics Men's Long Jump\", 'Sailing Mixed 7 metres',\n",
       "       \"Nordic Combined Men's Individual\", \"Ice Hockey Men's Ice Hockey\",\n",
       "       \"Rowing Men's Double Sculls\", 'Sailing Mixed 6 metres',\n",
       "       \"Sailing Women's Skiff\", \"Rowing Men's Coxed Fours\",\n",
       "       \"Archery Men's Individual\", \"Fencing Men's Sabre, Individual\",\n",
       "       \"Fencing Men's Foil, Team\", 'Sailing Mixed 12 metres',\n",
       "       \"Canoeing Men's Kayak Fours, 1,000 metres\",\n",
       "       \"Cross Country Skiing Men's 10 kilometres\",\n",
       "       \"Cross Country Skiing Men's 30 kilometres\",\n",
       "       \"Cross Country Skiing Men's 4 x 10 kilometres Relay\",\n",
       "       \"Cross Country Skiing Men's 50 kilometres\",\n",
       "       \"Cross Country Skiing Men's 10/15 kilometres Pursuit\",\n",
       "       \"Cross Country Skiing Men's 10/10 kilometres Pursuit\",\n",
       "       \"Bobsleigh Men's Two\", \"Gymnastics Men's Team All-Around\",\n",
       "       \"Gymnastics Men's Team All-Around, Swedish System\",\n",
       "       \"Canoeing Men's Kayak Doubles, 1,000 metres\",\n",
       "       \"Shooting Men's Free Pistol, 50 metres\",\n",
       "       \"Shooting Men's Free Rifle, Three Positions, 300 metres\",\n",
       "       \"Shooting Men's Small-Bore Rifle, Three Positions, 50 metres\",\n",
       "       \"Rowing Men's Coxless Fours\", \"Fencing Women's epee, Individual\",\n",
       "       \"Fencing Women's epee, Team\",\n",
       "       \"Ski Jumping Men's Normal Hill, Individual\",\n",
       "       \"Athletics Men's Pole Vault\",\n",
       "       \"Gymnastics Men's Individual All-Around, 5 Events\",\n",
       "       \"Athletics Men's 20 kilometres Walk\",\n",
       "       \"Athletics Men's 50 kilometres Walk\",\n",
       "       \"Wrestling Men's Lightweight, Greco-Roman\",\n",
       "       \"Athletics Men's Shot Put\", \"Sailing Women's Two Person Dinghy\",\n",
       "       \"Badminton Men's Singles\",\n",
       "       \"Athletics Men's Cross-Country, Individual\",\n",
       "       \"Athletics Men's Cross-Country, Team\",\n",
       "       \"Sailing Women's One Person Dinghy\",\n",
       "       \"Athletics Men's 3,000 metres, Team\",\n",
       "       \"Speed Skating Men's 1,000 metres\", \"Diving Men's Platform\",\n",
       "       \"Diving Men's Plain High\", \"Athletics Women's 1,500 metres\",\n",
       "       \"Athletics Women's Marathon\",\n",
       "       \"Cycling Men's Road Race, Individual\",\n",
       "       \"Cycling Men's Road Race, Team\", \"Biathlon Women's 15 kilometres\",\n",
       "       \"Biathlon Women's 7.5 kilometres Sprint\",\n",
       "       \"Biathlon Women's 4 x 7.5 kilometres Relay\",\n",
       "       \"Biathlon Women's 10 kilometres Pursuit\",\n",
       "       \"Biathlon Women's 4 x 6 kilometres Relay\",\n",
       "       \"Rowing Men's Coxless Pairs\", \"Rowing Men's Coxed Pairs\",\n",
       "       \"Boxing Men's Welterweight\", \"Biathlon Men's 10 kilometres Sprint\",\n",
       "       \"Biathlon Men's 20 kilometres\",\n",
       "       \"Biathlon Men's 12.5 kilometres Pursuit\",\n",
       "       \"Biathlon Men's 4 x 7.5 kilometres Relay\",\n",
       "       \"Biathlon Men's 15 kilometres Mass Start\",\n",
       "       \"Cross Country Skiing Men's 30 km Skiathlon\",\n",
       "       \"Cycling Men's 100 kilometres Team Time Trial\",\n",
       "       \"Gymnastics Women's Individual All-Around\",\n",
       "       \"Gymnastics Women's Team All-Around\",\n",
       "       \"Gymnastics Women's Floor Exercise\",\n",
       "       \"Gymnastics Women's Horse Vault\", \"Gymnastics Women's Uneven Bars\",\n",
       "       \"Gymnastics Women's Balance Beam\",\n",
       "       \"Shooting Men's Free Rifle, Prone, 600 metres\",\n",
       "       \"Shooting Men's Free Rifle, 400, 600 and 800 metres, Team\",\n",
       "       \"Tennis Men's Doubles\", \"Athletics Women's High Jump\",\n",
       "       \"Handball Men's Handball\",\n",
       "       'Shooting Mixed Free Rifle, Three Positions, 300 metres',\n",
       "       'Shooting Mixed Small-Bore Rifle, Three Positions, 50 metres',\n",
       "       'Shooting Mixed Small-Bore Rifle, Prone, 50 metres',\n",
       "       \"Nordic Combined Men's Team\", 'Sailing Mixed 10 metres',\n",
       "       \"Wrestling Men's Featherweight, Greco-Roman\",\n",
       "       'Sailing Mixed Skiff', \"Cycling Men's Individual Time Trial\",\n",
       "       \"Athletics Women's 100 metres\",\n",
       "       \"Cross Country Skiing Women's 10 kilometres\",\n",
       "       \"Athletics Women's 80 metres Hurdles\",\n",
       "       \"Boxing Men's Light-Middleweight\", \"Athletics Men's Discus Throw\",\n",
       "       \"Boxing Men's Light-Welterweight\",\n",
       "       \"Cross Country Skiing Women's 5 kilometres\",\n",
       "       \"Cross Country Skiing Women's 3 x 5 kilometres Relay\",\n",
       "       \"Cross Country Skiing Men's 15 kilometres\",\n",
       "       \"Cross Country Skiing Women's 4 x 5 kilometres Relay\",\n",
       "       \"Freestyle Skiing Men's Slopestyle\", \"Snowboarding Men's Halfpipe\",\n",
       "       \"Swimming Women's 100 metres Breaststroke\",\n",
       "       \"Swimming Women's 200 metres Breaststroke\",\n",
       "       \"Swimming Women's 200 metres Individual Medley\",\n",
       "       \"Athletics Men's Triple Jump\", 'Figure Skating Mixed Pairs',\n",
       "       \"Alpine Skiing Women's Giant Slalom\",\n",
       "       \"Alpine Skiing Women's Slalom\", \"Athletics Men's 5,000 metres\",\n",
       "       \"Shooting Men's Air Rifle, 10 metres\",\n",
       "       \"Swimming Women's 100 metres Backstroke\",\n",
       "       \"Ski Jumping Men's Large Hill, Individual\",\n",
       "       \"Ski Jumping Men's Large Hill, Team\",\n",
       "       \"Wrestling Men's Welterweight, Greco-Roman\",\n",
       "       \"Wrestling Men's Welterweight, Freestyle\",\n",
       "       \"Wrestling Men's Middleweight, Greco-Roman\",\n",
       "       \"Weightlifting Men's Middle-Heavyweight\",\n",
       "       \"Cross Country Skiing Women's 5/5 kilometres Pursuit\",\n",
       "       \"Athletics Men's 100 metres\", \"Rowing Men's Single Sculls\",\n",
       "       'Sailing Mixed Two Person Heavyweight Dinghy',\n",
       "       'Sailing Mixed Two Person Keelboat',\n",
       "       \"Athletics Men's 10,000 metres\", \"Boxing Men's Flyweight\",\n",
       "       \"Alpine Skiing Women's Super G\", \"Alpine Skiing Women's Combined\",\n",
       "       \"Diving Women's Plain High\",\n",
       "       \"Biathlon Women's 12.5 kilometres Mass Start\",\n",
       "       'Biathlon Mixed 2 x 6 kilometres and 2 x 7.5 kilometres Relay',\n",
       "       \"Shooting Men's Running Target, Single And Double Shot\",\n",
       "       \"Athletics Women's Discus Throw\", \"Snowboarding Men's Slopestyle\",\n",
       "       \"Canoeing Women's Kayak Fours, 500 metres\",\n",
       "       \"Freestyle Skiing Women's Ski Cross\",\n",
       "       \"Freestyle Skiing Women's Moguls\",\n",
       "       \"Beach Volleyball Women's Beach Volleyball\",\n",
       "       \"Athletics Women's Long Jump\", \"Athletics Women's Pentathlon\",\n",
       "       \"Athletics Men's 110 metres Hurdles\", \"Athletics Men's Pentathlon\",\n",
       "       \"Athletics Men's Decathlon\", \"Speed Skating Women's 500 metres\",\n",
       "       \"Speed Skating Women's 1,000 metres\",\n",
       "       \"Speed Skating Women's 1,500 metres\",\n",
       "       \"Speed Skating Women's 3,000 metres\",\n",
       "       \"Speed Skating Women's Team Pursuit (6 laps)\",\n",
       "       \"Skeleton Women's Skeleton\", \"Boxing Men's Bantamweight\",\n",
       "       \"Shooting Men's Military Rifle, Three Positions, 300 metres\",\n",
       "       \"Cross Country Skiing Men's Sprint\",\n",
       "       \"Rowing Women's Double Sculls\", \"Tennis Women's Singles\",\n",
       "       'Tennis Mixed Doubles', \"Rowing Men's Quadruple Sculls\",\n",
       "       \"Cross Country Skiing Women's 15 kilometres\",\n",
       "       \"Cross Country Skiing Women's 30 kilometres\",\n",
       "       \"Cross Country Skiing Women's Sprint\",\n",
       "       \"Cross Country Skiing Women's 15 km Skiathlon\",\n",
       "       \"Cross Country Skiing Women's Team Sprint\", \"Tennis Men's Singles\",\n",
       "       \"Swimming Women's 50 metres Freestyle\",\n",
       "       \"Swimming Women's 100 metres Freestyle\",\n",
       "       \"Weightlifting Men's Middleweight\",\n",
       "       \"Equestrianism Men's Three-Day Event, Individual\",\n",
       "       \"Equestrianism Men's Three-Day Event, Team\",\n",
       "       \"Equestrianism Men's Dressage, Individual\",\n",
       "       \"Equestrianism Men's Dressage, Team\",\n",
       "       \"Rowing Men's Coxed Fours, Inriggers\", \"Rowing Men's Coxed Eights\",\n",
       "       \"Athletics Men's 200 metres\", \"Triathlon Men's Olympic Distance\",\n",
       "       \"Athletics Men's Standing High Jump\",\n",
       "       \"Cycling Women's Road Race, Individual\",\n",
       "       \"Swimming Women's 200 metres Butterfly\",\n",
       "       \"Swimming Women's 400 metres Individual Medley\",\n",
       "       \"Swimming Men's 400 metres Freestyle\",\n",
       "       \"Swimming Men's 4 x 200 metres Freestyle Relay\",\n",
       "       \"Swimming Men's 200 metres Individual Medley\",\n",
       "       \"Swimming Men's 400 metres Individual Medley\",\n",
       "       \"Athletics Men's 800 metres\", \"Athletics Men's 1,500 metres\",\n",
       "       \"Cross Country Skiing Women's 20 kilometres\",\n",
       "       \"Speed Skating Men's Team Pursuit (8 laps)\",\n",
       "       \"Shooting Men's Free Rifle, Three Positions, 300 metres, Team\",\n",
       "       \"Shooting Men's Free Rifle, Any Position, 300 metres\",\n",
       "       \"Shooting Men's Military Rifle, 1873-1874 Gras Model, Kneeling Or Standing, 200 metres\",\n",
       "       \"Shooting Men's Military Rifle, Kneeling Or Standing, 300 metres\",\n",
       "       \"Canoeing Women's Kayak Doubles, 500 metres\",\n",
       "       \"Boxing Men's Lightweight\",\n",
       "       \"Cross Country Skiing Men's 18 kilometres\",\n",
       "       \"Athletics Men's Standing Long Jump\", \"Shooting Men's Skeet\",\n",
       "       \"Shooting Men's Free Rifle, 1,000 Yards\",\n",
       "       \"Shooting Men's Military Rifle, 200/500/600/800/900/1,000 Yards, Team\",\n",
       "       \"Rowing Men's Lightweight Double Sculls\",\n",
       "       \"Athletics Men's 400 metres\", \"Nordic Combined Men's Sprint\",\n",
       "       \"Snowboarding Women's Halfpipe\", \"Snowboarding Women's Slopestyle\",\n",
       "       \"Cycling Men's 1,000 metres Time Trial\",\n",
       "       \"Athletics Men's Marathon\",\n",
       "       \"Cycling Women's Mountainbike, Cross-Country\",\n",
       "       \"Short Track Speed Skating Men's 5,000 metres Relay\",\n",
       "       \"Athletics Men's Javelin Throw, Freestyle\",\n",
       "       \"Gymnastics Men's Individual All-Around\",\n",
       "       \"Judo Men's Half-Lightweight\", \"Luge Men's Singles\",\n",
       "       \"Shooting Men's Military Rifle, Any Position, 600 metres\",\n",
       "       \"Swimming Men's 200 metres Freestyle\",\n",
       "       \"Swimming Men's 1,500 metres Freestyle\",\n",
       "       \"Alpine Skiing Women's Downhill\",\n",
       "       'Equestrianism Mixed Dressage, Individual',\n",
       "       'Equestrianism Mixed Dressage, Team',\n",
       "       \"Wrestling Men's Flyweight, Greco-Roman\",\n",
       "       \"Boxing Men's Light-Heavyweight\",\n",
       "       \"Shooting Men's Military Rifle, Standing, 300 metres\",\n",
       "       \"Rowing Men's Coxed Fours, Outriggers\",\n",
       "       \"Swimming Women's 400 metres Freestyle\",\n",
       "       \"Swimming Women's 800 metres Freestyle\",\n",
       "       \"Swimming Women's 200 metres Freestyle\",\n",
       "       \"Athletics Men's Javelin Throw\", \"Curling Men's Curling\",\n",
       "       \"Shooting Men's Military Rifle, 200, 400, 500 and 600 metres, Team\",\n",
       "       \"Figure Skating Women's Singles\", 'Sailing Mixed 5.5 metres',\n",
       "       'Equestrianism Mixed Jumping, Team',\n",
       "       \"Cross Country Skiing Women's 5/10 kilometres Pursuit\",\n",
       "       \"Freestyle Skiing Men's Moguls\",\n",
       "       \"Sailing Women's Three Person Keelboat\",\n",
       "       \"Short Track Speed Skating Men's 500 metres\",\n",
       "       \"Short Track Speed Skating Men's 1,000 metres\",\n",
       "       'Art Competitions Mixed Music',\n",
       "       'Shooting Mixed Rapid-Fire Pistol, 25 metres',\n",
       "       \"Snowboarding Women's Parallel Giant Slalom\",\n",
       "       \"Snowboarding Women's Parallel Slalom\",\n",
       "       \"Ski Jumping Women's Normal Hill, Individual\",\n",
       "       \"Boxing Men's Featherweight\", \"Judo Men's Lightweight\",\n",
       "       \"Equestrianism Men's Jumping, Individual\",\n",
       "       'Sailing Mixed Multihull', \"Shooting Men's Air Pistol, 10 metres\",\n",
       "       \"Canoeing Men's Kayak Doubles, 500 metres\",\n",
       "       \"Cycling Women's Individual Time Trial\",\n",
       "       \"Biathlon Women's 3 x 7.5 kilometres Relay\",\n",
       "       \"Canoeing Men's Canadian Singles, 500 metres\",\n",
       "       \"Canoeing Men's Canadian Singles, 1,000 metres\",\n",
       "       \"Shooting Men's Free Rifle, Kneeling, 300 metres\",\n",
       "       \"Shooting Men's Free Rifle, Prone, 300 metres\",\n",
       "       \"Shooting Men's Free Rifle, Standing, 300 metres\",\n",
       "       \"Diving Women's Platform\", \"Gymnastics Men's Floor Exercise\",\n",
       "       \"Gymnastics Men's Horse Vault\", \"Gymnastics Men's Parallel Bars\",\n",
       "       \"Gymnastics Men's Horizontal Bar\", \"Gymnastics Men's Rings\",\n",
       "       \"Gymnastics Men's Pommelled Horse\",\n",
       "       \"Nordic Combined Men's Large Hill / 10 km, Individual\",\n",
       "       \"Weightlifting Men's Super-Heavyweight\",\n",
       "       \"Wrestling Men's Middleweight, Freestyle\", \"Archery Men's Team\",\n",
       "       \"Freestyle Skiing Men's Ski Cross\",\n",
       "       \"Athletics Women's 5,000 metres\",\n",
       "       \"Athletics Women's 10,000 metres\",\n",
       "       \"Canoeing Men's Kayak Singles, 1,000 metres\",\n",
       "       \"Canoeing Men's Kayak Singles, 10,000 metres\",\n",
       "       \"Athletics Men's 400 metres Hurdles\",\n",
       "       \"Wrestling Men's Middleweight A, Greco-Roman\",\n",
       "       \"Wrestling Men's Super-Heavyweight, Greco-Roman\",\n",
       "       \"Wrestling Men's Super-Heavyweight, Freestyle\",\n",
       "       \"Wrestling Men's Heavyweight, Freestyle\",\n",
       "       \"Taekwondo Women's Welterweight\",\n",
       "       \"Equestrianism Men's Jumping, Team\", \"Luge Mixed (Men)'s Doubles\",\n",
       "       \"Athletics Men's Javelin Throw, Both Hands\",\n",
       "       \"Athletics Men's 10 kilometres Walk\",\n",
       "       \"Shooting Women's Air Rifle, 10 metres\",\n",
       "       \"Shooting Women's Small-Bore Rifle, Three Positions, 50 metres\",\n",
       "       \"Cycling Women's Individual Pursuit, 3,000 metres\",\n",
       "       \"Cycling Women's Points Race\", \"Curling Women's Curling\",\n",
       "       \"Cross Country Skiing Men's Team Sprint\",\n",
       "       \"Sailing Men's Windsurfer\", \"Speed Skating Women's 5,000 metres\",\n",
       "       \"Snowboarding Men's Boardercross\", \"Boxing Men's Heavyweight\",\n",
       "       \"Shooting Men's Running Target, 50 metres\",\n",
       "       \"Shooting Men's Running Target, 10 metres\",\n",
       "       \"Shooting Men's Military Revolver, 20 metres\",\n",
       "       \"Shooting Men's Military Rifle, Prone, 300 metres\",\n",
       "       \"Shooting Men's Military Rifle, Prone, 300 metres, Team\",\n",
       "       \"Shooting Men's Military Rifle, Prone, 600 metres, Team\",\n",
       "       \"Shooting Men's Military Rifle, Standing, 300 metres, Team\",\n",
       "       \"Shooting Men's Military Rifle, 300 metres and 600 metres, Prone, Team\",\n",
       "       \"Shooting Men's Small-Bore Rifle, Standing, 50 metres\",\n",
       "       \"Shooting Men's Small Bore-Rifle, Standing, 50 metres, Team\",\n",
       "       'Art Competitions Mixed Painting, Graphic Arts',\n",
       "       \"Wrestling Men's Heavyweight, Greco-Roman\",\n",
       "       \"Athletics Men's Hammer Throw\",\n",
       "       \"Wrestling Men's Bantamweight, Greco-Roman\",\n",
       "       \"Archery Women's Individual\", \"Weightlifting Men's Lightweight\",\n",
       "       \"Canoeing Men's Kayak Singles, 500 metres\",\n",
       "       \"Shooting Men's Trap, Team\", \"Sailing Women's Windsurfer\",\n",
       "       \"Beach Volleyball Men's Beach Volleyball\",\n",
       "       \"Swimming Men's 4 x 100 metres Medley Relay\",\n",
       "       \"Cycling Men's Mountainbike, Cross-Country\",\n",
       "       \"Athletics Women's 800 metres\",\n",
       "       \"Athletics Women's 400 metres Hurdles\",\n",
       "       \"Cycling Men's Individual Pursuit, 4,000 metres\",\n",
       "       \"Boxing Men's Middleweight\", 'Sailing Mixed Two Person Dinghy',\n",
       "       'Shooting Mixed Skeet', \"Sailing Men's Two Person Dinghy\",\n",
       "       \"Weightlifting Men's Light-Heavyweight\",\n",
       "       \"Shooting Men's Running Target, Double Shot, Team\",\n",
       "       \"Swimming Men's 100 metres Freestyle\",\n",
       "       \"Swimming Men's 100 metres Backstroke\",\n",
       "       'Sailing Mixed One Person Dinghy',\n",
       "       \"Shooting Men's Small-Bore Rifle, Any Position, 50 metres\",\n",
       "       \"Cycling Men's BMX\", \"Weightlifting Women's Middleweight\",\n",
       "       \"Weightlifting Men's Heavyweight\",\n",
       "       \"Nordic Combined Men's Normal Hill / 10 km, Individual\",\n",
       "       \"Modern Pentathlon Men's Individual\", \"Golf Men's Individual\",\n",
       "       \"Figure Skating Men's Singles\", \"Badminton Women's Singles\",\n",
       "       \"Athletics Men's 3,000 metres Steeplechase\",\n",
       "       \"Canoeing Women's Kayak Singles, 500 metres\",\n",
       "       \"Speed Skating Men's Allround\",\n",
       "       'Shooting Mixed Running Target, 50 metres',\n",
       "       \"Wrestling Men's Lightweight, Freestyle\",\n",
       "       \"Shooting Men's Running Target, Single Shot, Team\",\n",
       "       \"Shooting Men's Running Target, Double Shot\",\n",
       "       \"Shooting Men's Running Target, Single Shot\",\n",
       "       \"Freestyle Skiing Women's Aerials\",\n",
       "       \"Freestyle Skiing Men's Halfpipe\", \"Diving Men's Springboard\",\n",
       "       \"Athletics Women's 3,000 metres Steeplechase\",\n",
       "       \"Wrestling Men's Middleweight B, Greco-Roman\",\n",
       "       'Art Competitions Mixed Sculpturing',\n",
       "       \"Athletics Women's Heptathlon\",\n",
       "       \"Canoeing Men's Kayak Doubles, 10,000 metres\",\n",
       "       \"Sailing Men's Two Person Keelboat\",\n",
       "       \"Swimming Men's 100 metres Breaststroke\",\n",
       "       \"Swimming Men's 200 metres Breaststroke\",\n",
       "       \"Gymnastics Men's Individual All-Around, Field Sports\",\n",
       "       \"Gymnastics Men's Individual All-Around, Apparatus Work\",\n",
       "       'Sailing Mixed Windsurfer',\n",
       "       \"Wrestling Men's Featherweight, Freestyle\",\n",
       "       \"Diving Women's Springboard\", \"Athletics Women's 200 metres\",\n",
       "       \"Snowboarding Women's Boardercross\",\n",
       "       \"Rowing Women's Single Sculls\", \"Athletics Women's Shot Put\",\n",
       "       \"Sailing Men's One Person Heavyweight Dinghy\",\n",
       "       \"Athletics Women's 100 metres Hurdles\", \"Skeleton Men's Skeleton\",\n",
       "       \"Golf Women's Individual\", 'Shooting Mixed Free Pistol, 50 metres',\n",
       "       \"Wrestling Men's Light-Flyweight, Greco-Roman\",\n",
       "       \"Sailing Men's One Person Dinghy\", \"Cycling Men's Sprint\",\n",
       "       'Art Competitions Mixed Architecture',\n",
       "       \"Taekwondo Women's Heavyweight\", \"Freestyle Skiing Men's Aerials\",\n",
       "       \"Athletics Men's 5 mile\",\n",
       "       \"Shooting Men's Military Rifle, Prone, 600 metres\",\n",
       "       \"Swimming Women's 100 metres Butterfly\",\n",
       "       \"Athletics Women's Javelin Throw\",\n",
       "       \"Swimming Men's 200 metres Backstroke\", 'Shooting Mixed Trap',\n",
       "       \"Wrestling Women's Light-Heavyweight, Freestyle\",\n",
       "       'Art Competitions Mixed Architecture, Designs For Town Planning',\n",
       "       'Art Competitions Mixed Architecture, Architectural Designs',\n",
       "       \"Judo Men's Half-Middleweight\",\n",
       "       \"Athletics Women's 20 kilometres Walk\",\n",
       "       'Art Competitions Mixed Music, Compositions For Solo Or Chorus',\n",
       "       'Art Competitions Mixed Music, Instrumental And Chamber',\n",
       "       'Art Competitions Mixed Unknown Event',\n",
       "       \"Rhythmic Gymnastics Women's Individual\"], dtype=object)"
      ]
     },
     "execution_count": 36,
     "metadata": {},
     "output_type": "execute_result"
    }
   ],
   "source": [
    "Norway[\"Event\"].unique()"
   ]
  },
  {
   "cell_type": "code",
   "execution_count": null,
   "metadata": {},
   "outputs": [],
   "source": []
  }
 ],
 "metadata": {
  "kernelspec": {
   "display_name": "Python 3.9.13 ('Projekt-os-norge-WHCgC19e')",
   "language": "python",
   "name": "python3"
  },
  "language_info": {
   "codemirror_mode": {
    "name": "ipython",
    "version": 3
   },
   "file_extension": ".py",
   "mimetype": "text/x-python",
   "name": "python",
   "nbconvert_exporter": "python",
   "pygments_lexer": "ipython3",
   "version": "3.9.13"
  },
  "orig_nbformat": 4,
  "vscode": {
   "interpreter": {
    "hash": "d81b0da904a100680593a656995bba2b52a8f68952df8fcc577648df475c59af"
   }
  }
 },
 "nbformat": 4,
 "nbformat_minor": 2
}
